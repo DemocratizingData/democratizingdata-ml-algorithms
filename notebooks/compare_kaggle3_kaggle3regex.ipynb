{
 "cells": [
  {
   "cell_type": "markdown",
   "metadata": {},
   "source": [
    "# Kaggle 3: Sentence-level Substring Matching vs Regex"
   ]
  },
  {
   "cell_type": "code",
   "execution_count": 1,
   "metadata": {},
   "outputs": [],
   "source": [
    "\n",
    "import democratizing_data_ml_algorithms.models.kaggle_model3 as km3\n",
    "import democratizing_data_ml_algorithms.models.kaggle_model3_regex_inference as km3r\n",
    "import democratizing_data_ml_algorithms.evaluate.model as em\n",
    "from democratizing_data_ml_algorithms.data.kaggle_repository import KaggleRepository"
   ]
  },
  {
   "cell_type": "code",
   "execution_count": 2,
   "metadata": {},
   "outputs": [],
   "source": [
    "config = {\n",
    "    \"model_path\": \"../models/kaggle_model3/baseline/params.txt\",\n",
    "}\n",
    "\n",
    "repo = KaggleRepository()"
   ]
  },
  {
   "cell_type": "code",
   "execution_count": 3,
   "metadata": {},
   "outputs": [
    {
     "data": {
      "text/plain": [
       "\n",
       "        Model Evaluation:\n",
       "\n",
       "        - Run time: 49.96364188194275 seconds, avg: 0.006196656564795082 seconds per sample\n",
       "        - True Postive Count: 2446, avg: 0.3033610318739923 per sample\n",
       "        - Precision: 0.24702080387800443\n",
       "        - Recall: 0.06857110818311794\n",
       "        "
      ]
     },
     "execution_count": 3,
     "metadata": {},
     "output_type": "execute_result"
    }
   ],
   "source": [
    "evaluation = em.evaluate_model(\n",
    "    repo,\n",
    "    km3.KaggleModel3(),\n",
    "    config,\n",
    ")\n",
    "evaluation"
   ]
  },
  {
   "cell_type": "code",
   "execution_count": 4,
   "metadata": {},
   "outputs": [
    {
     "data": {
      "text/plain": [
       "\n",
       "        Model Evaluation:\n",
       "\n",
       "        - Run time: 669.5538220405579 seconds, avg: 0.08304028550670443 seconds per sample\n",
       "        - True Postive Count: 6977, avg: 0.8653106784075406 per sample\n",
       "        - Precision: 0.49359745313052705\n",
       "        - Recall: 0.19591710659328315\n",
       "        "
      ]
     },
     "execution_count": 4,
     "metadata": {},
     "output_type": "execute_result"
    }
   ],
   "source": [
    "evaluation_regex = em.evaluate_model(\n",
    "    repo,\n",
    "    km3r.Kaggle3RegexInference(config),\n",
    "    config,\n",
    ")\n",
    "evaluation_regex"
   ]
  }
 ],
 "metadata": {
  "kernelspec": {
   "display_name": "Python 3.10.8 ('democratizingdata-ml-algo')",
   "language": "python",
   "name": "python3"
  },
  "language_info": {
   "codemirror_mode": {
    "name": "ipython",
    "version": 3
   },
   "file_extension": ".py",
   "mimetype": "text/x-python",
   "name": "python",
   "nbconvert_exporter": "python",
   "pygments_lexer": "ipython3",
   "version": "3.10.8"
  },
  "orig_nbformat": 4,
  "vscode": {
   "interpreter": {
    "hash": "b3e03aa19f4cee1cca181f326aea7726af1ea307b5fcbfd54a41f945b089b370"
   }
  }
 },
 "nbformat": 4,
 "nbformat_minor": 2
}
