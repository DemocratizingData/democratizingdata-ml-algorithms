{
 "cells": [
  {
   "cell_type": "code",
   "execution_count": 3,
   "metadata": {},
   "outputs": [],
   "source": [
    "import json\n",
    "from itertools import chain\n",
    "\n",
    "import numpy as np\n",
    "import pandas as pd\n",
    "from tqdm import tqdm\n",
    "\n",
    "from src.models.schwartz_hearst_model import SchwartzHearstModel\n",
    "from src.evaluate.model import evaluate_kaggle_private"
   ]
  },
  {
   "cell_type": "code",
   "execution_count": 4,
   "metadata": {},
   "outputs": [
    {
     "name": "stderr",
     "output_type": "stream",
     "text": [
      "100%|██████████| 8063/8063 [05:21<00:00, 25.08it/s] \n",
      " 47%|████▋     | 3766/8063 [00:09<00:08, 499.74it/s]WARNING:root:Applied processor reduces input query to empty string, all comparisons will have score 0. [Query: ' =']\n",
      "100%|██████████| 8063/8063 [00:16<00:00, 481.63it/s]\n"
     ]
    }
   ],
   "source": [
    "    \n",
    "\n",
    "tqdm.pandas()\n",
    "evaluation = evaluate_kaggle_private(SchwartzHearstModel(), dict(), 1)"
   ]
  },
  {
   "cell_type": "code",
   "execution_count": 15,
   "metadata": {},
   "outputs": [
    {
     "data": {
      "text/html": [
       "<div>\n",
       "<style scoped>\n",
       "    .dataframe tbody tr th:only-of-type {\n",
       "        vertical-align: middle;\n",
       "    }\n",
       "\n",
       "    .dataframe tbody tr th {\n",
       "        vertical-align: top;\n",
       "    }\n",
       "\n",
       "    .dataframe thead th {\n",
       "        text-align: right;\n",
       "    }\n",
       "</style>\n",
       "<table border=\"1\" class=\"dataframe\">\n",
       "  <thead>\n",
       "    <tr style=\"text-align: right;\">\n",
       "      <th></th>\n",
       "      <th>ids</th>\n",
       "      <th>labels</th>\n",
       "      <th>statistics</th>\n",
       "    </tr>\n",
       "  </thead>\n",
       "  <tbody>\n",
       "    <tr>\n",
       "      <th>0</th>\n",
       "      <td>7bfd8bb51</td>\n",
       "      <td>dbgap</td>\n",
       "      <td>{'labels': ['dbgap', 'CNV', 'WGS', 'Whole-exom...</td>\n",
       "    </tr>\n",
       "    <tr>\n",
       "      <th>1</th>\n",
       "      <td>7d3e31302</td>\n",
       "      <td>sass|sass data|school and staffing sass data|s...</td>\n",
       "      <td>{'labels': ['sass', 'sass data', 'school and s...</td>\n",
       "    </tr>\n",
       "    <tr>\n",
       "      <th>2</th>\n",
       "      <td>3644f959a</td>\n",
       "      <td>foodaps|national household food acquisition an...</td>\n",
       "      <td>{'labels': ['foodaps', 'national household foo...</td>\n",
       "    </tr>\n",
       "    <tr>\n",
       "      <th>3</th>\n",
       "      <td>ed3527cf3</td>\n",
       "      <td>database of genotypes and phenotypes|database ...</td>\n",
       "      <td>{'labels': ['database of genotypes and phenoty...</td>\n",
       "    </tr>\n",
       "    <tr>\n",
       "      <th>4</th>\n",
       "      <td>236061129</td>\n",
       "      <td>dbgap</td>\n",
       "      <td>{'labels': ['dbgap'], 'stats': ['FN']}</td>\n",
       "    </tr>\n",
       "    <tr>\n",
       "      <th>...</th>\n",
       "      <td>...</td>\n",
       "      <td>...</td>\n",
       "      <td>...</td>\n",
       "    </tr>\n",
       "    <tr>\n",
       "      <th>8058</th>\n",
       "      <td>3cb8b0e09</td>\n",
       "      <td>database of genotypes and phenotypes|database ...</td>\n",
       "      <td>{'labels': ['database of genotypes and phenoty...</td>\n",
       "    </tr>\n",
       "    <tr>\n",
       "      <th>8059</th>\n",
       "      <td>324fe1310</td>\n",
       "      <td>dbgap</td>\n",
       "      <td>{'labels': ['dbgap'], 'stats': ['FN']}</td>\n",
       "    </tr>\n",
       "    <tr>\n",
       "      <th>8060</th>\n",
       "      <td>39e66a274</td>\n",
       "      <td>1000 genomes project|1000 genomes project 1000...</td>\n",
       "      <td>{'labels': ['1000 genomes project', '1000 geno...</td>\n",
       "    </tr>\n",
       "    <tr>\n",
       "      <th>8061</th>\n",
       "      <td>c411b1b6c</td>\n",
       "      <td>dbgap|american cancer society cancer preventio...</td>\n",
       "      <td>{'labels': ['dbgap', 'american cancer society ...</td>\n",
       "    </tr>\n",
       "    <tr>\n",
       "      <th>8062</th>\n",
       "      <td>990d0ae2d</td>\n",
       "      <td>epa storage and retrieval storet data warehous...</td>\n",
       "      <td>{'labels': ['epa storage and retrieval storet ...</td>\n",
       "    </tr>\n",
       "  </tbody>\n",
       "</table>\n",
       "<p>8063 rows × 3 columns</p>\n",
       "</div>"
      ],
      "text/plain": [
       "            ids                                             labels  \\\n",
       "0     7bfd8bb51                                              dbgap   \n",
       "1     7d3e31302  sass|sass data|school and staffing sass data|s...   \n",
       "2     3644f959a  foodaps|national household food acquisition an...   \n",
       "3     ed3527cf3  database of genotypes and phenotypes|database ...   \n",
       "4     236061129                                              dbgap   \n",
       "...         ...                                                ...   \n",
       "8058  3cb8b0e09  database of genotypes and phenotypes|database ...   \n",
       "8059  324fe1310                                              dbgap   \n",
       "8060  39e66a274  1000 genomes project|1000 genomes project 1000...   \n",
       "8061  c411b1b6c  dbgap|american cancer society cancer preventio...   \n",
       "8062  990d0ae2d  epa storage and retrieval storet data warehous...   \n",
       "\n",
       "                                             statistics  \n",
       "0     {'labels': ['dbgap', 'CNV', 'WGS', 'Whole-exom...  \n",
       "1     {'labels': ['sass', 'sass data', 'school and s...  \n",
       "2     {'labels': ['foodaps', 'national household foo...  \n",
       "3     {'labels': ['database of genotypes and phenoty...  \n",
       "4                {'labels': ['dbgap'], 'stats': ['FN']}  \n",
       "...                                                 ...  \n",
       "8058  {'labels': ['database of genotypes and phenoty...  \n",
       "8059             {'labels': ['dbgap'], 'stats': ['FN']}  \n",
       "8060  {'labels': ['1000 genomes project', '1000 geno...  \n",
       "8061  {'labels': ['dbgap', 'american cancer society ...  \n",
       "8062  {'labels': ['epa storage and retrieval storet ...  \n",
       "\n",
       "[8063 rows x 3 columns]"
      ]
     },
     "execution_count": 15,
     "metadata": {},
     "output_type": "execute_result"
    }
   ],
   "source": [
    "evaluation.output_statistics"
   ]
  },
  {
   "cell_type": "code",
   "execution_count": 13,
   "metadata": {},
   "outputs": [],
   "source": [
    "stats = evaluation.output_statistics\n",
    "all_labels = list(chain(*list(map(lambda x: x[\"labels\"], stats[\"statistics\"].values))))\n",
    "global_stats = list(\n",
    "    chain(*list(map(lambda x: x[\"stats\"], stats[\"statistics\"].values)))\n",
    ")"
   ]
  },
  {
   "cell_type": "code",
   "execution_count": 14,
   "metadata": {},
   "outputs": [
    {
     "data": {
      "text/html": [
       "<div>\n",
       "<style scoped>\n",
       "    .dataframe tbody tr th:only-of-type {\n",
       "        vertical-align: middle;\n",
       "    }\n",
       "\n",
       "    .dataframe tbody tr th {\n",
       "        vertical-align: top;\n",
       "    }\n",
       "\n",
       "    .dataframe thead th {\n",
       "        text-align: right;\n",
       "    }\n",
       "</style>\n",
       "<table border=\"1\" class=\"dataframe\">\n",
       "  <thead>\n",
       "    <tr style=\"text-align: right;\">\n",
       "      <th></th>\n",
       "      <th>stats</th>\n",
       "    </tr>\n",
       "    <tr>\n",
       "      <th>labels</th>\n",
       "      <th></th>\n",
       "    </tr>\n",
       "  </thead>\n",
       "  <tbody>\n",
       "    <tr>\n",
       "      <th>dbgap</th>\n",
       "      <td>2926</td>\n",
       "    </tr>\n",
       "    <tr>\n",
       "      <th>database of genotypes and phenotypes</th>\n",
       "      <td>950</td>\n",
       "    </tr>\n",
       "    <tr>\n",
       "      <th>database of genotypes and phenotypes dbgap</th>\n",
       "      <td>773</td>\n",
       "    </tr>\n",
       "    <tr>\n",
       "      <th>program for international student assessment</th>\n",
       "      <td>771</td>\n",
       "    </tr>\n",
       "    <tr>\n",
       "      <th>schools and staffing survey</th>\n",
       "      <td>353</td>\n",
       "    </tr>\n",
       "    <tr>\n",
       "      <th>...</th>\n",
       "      <td>...</td>\n",
       "    </tr>\n",
       "    <tr>\n",
       "      <th>genomic psychiatry cohort</th>\n",
       "      <td>1</td>\n",
       "    </tr>\n",
       "    <tr>\n",
       "      <th>genomic encyclopedia of bacteria and archaea</th>\n",
       "      <td>1</td>\n",
       "    </tr>\n",
       "    <tr>\n",
       "      <th>genomic data generation</th>\n",
       "      <td>1</td>\n",
       "    </tr>\n",
       "    <tr>\n",
       "      <th>genomic data commons gdc data portal</th>\n",
       "      <td>1</td>\n",
       "    </tr>\n",
       "    <tr>\n",
       "      <th>zulu gwas</th>\n",
       "      <td>1</td>\n",
       "    </tr>\n",
       "  </tbody>\n",
       "</table>\n",
       "<p>8946 rows × 1 columns</p>\n",
       "</div>"
      ],
      "text/plain": [
       "                                              stats\n",
       "labels                                             \n",
       "dbgap                                          2926\n",
       "database of genotypes and phenotypes            950\n",
       "database of genotypes and phenotypes dbgap      773\n",
       "program for international student assessment    771\n",
       "schools and staffing survey                     353\n",
       "...                                             ...\n",
       "genomic psychiatry cohort                         1\n",
       "genomic encyclopedia of bacteria and archaea      1\n",
       "genomic data generation                           1\n",
       "genomic data commons gdc data portal              1\n",
       "zulu gwas                                         1\n",
       "\n",
       "[8946 rows x 1 columns]"
      ]
     },
     "execution_count": 14,
     "metadata": {},
     "output_type": "execute_result"
    }
   ],
   "source": [
    "stats_df = pd.DataFrame({\"labels\": all_labels, \"stats\": global_stats})\n",
    "stats_df.loc[stats_df[\"stats\"] == \"FN\", :].groupby(\"labels\").count().sort_values(\n",
    "    \"stats\", ascending=False\n",
    ")"
   ]
  },
  {
   "cell_type": "code",
   "execution_count": 26,
   "metadata": {},
   "outputs": [
    {
     "data": {
      "text/html": [
       "<div>\n",
       "<style scoped>\n",
       "    .dataframe tbody tr th:only-of-type {\n",
       "        vertical-align: middle;\n",
       "    }\n",
       "\n",
       "    .dataframe tbody tr th {\n",
       "        vertical-align: top;\n",
       "    }\n",
       "\n",
       "    .dataframe thead th {\n",
       "        text-align: right;\n",
       "    }\n",
       "</style>\n",
       "<table border=\"1\" class=\"dataframe\">\n",
       "  <thead>\n",
       "    <tr style=\"text-align: right;\">\n",
       "      <th></th>\n",
       "      <th>ids</th>\n",
       "      <th>labels</th>\n",
       "      <th>statistics</th>\n",
       "    </tr>\n",
       "  </thead>\n",
       "  <tbody>\n",
       "    <tr>\n",
       "      <th>8062</th>\n",
       "      <td>990d0ae2d</td>\n",
       "      <td>epa storage and retrieval storet data warehous...</td>\n",
       "      <td>{'labels': ['epa storage and retrieval storet ...</td>\n",
       "    </tr>\n",
       "  </tbody>\n",
       "</table>\n",
       "</div>"
      ],
      "text/plain": [
       "            ids                                             labels  \\\n",
       "8062  990d0ae2d  epa storage and retrieval storet data warehous...   \n",
       "\n",
       "                                             statistics  \n",
       "8062  {'labels': ['epa storage and retrieval storet ...  "
      ]
     },
     "execution_count": 26,
     "metadata": {},
     "output_type": "execute_result"
    }
   ],
   "source": [
    "stats.loc[stats[\"labels\"].str.contains(\"epa storage and retrieval\"), :]"
   ]
  },
  {
   "cell_type": "code",
   "execution_count": 27,
   "metadata": {},
   "outputs": [
    {
     "data": {
      "text/plain": [
       "array([{'labels': ['database of genotypes and phenotypes', 'database of genotypes and phenotypes dbgap ', 'dbgap', 'NIH', 'Institute or Center', 'IaaS', 'PCS', 'IP', 'IRB', 'PaaS', 'Platform as a Service', 'Genomic Data Sharing', 'IC', 'Institutional Review Board', 'CSP', 'Software as a Service', 'SaaS', 'cloud service provider', 'Data Access Committee', 'National Institutes of Health', 'Infrastructure as a Service', 'Principal Investigator', 'Private Cloud System', 'Data Access Request', 'GDS', 'intellectual property'], 'stats': ['FN', 'FN', 'TP', 'FP', 'FP', 'FP', 'FP', 'FP', 'FP', 'FP', 'FP', 'FP', 'FP', 'FP', 'FP', 'FP', 'FP', 'FP', 'FP', 'FP', 'FP', 'FP', 'FP', 'FP', 'FP', 'FP']}],\n",
       "      dtype=object)"
      ]
     },
     "execution_count": 27,
     "metadata": {},
     "output_type": "execute_result"
    }
   ],
   "source": [
    "stats.loc[stats[\"ids\"]==\"ed3527cf3\", \"statistics\"].values"
   ]
  }
 ],
 "metadata": {
  "kernelspec": {
   "display_name": "deomcratizing-data",
   "language": "python",
   "name": "python3"
  },
  "language_info": {
   "codemirror_mode": {
    "name": "ipython",
    "version": 3
   },
   "file_extension": ".py",
   "mimetype": "text/x-python",
   "name": "python",
   "nbconvert_exporter": "python",
   "pygments_lexer": "ipython3",
   "version": "3.10.0"
  },
  "orig_nbformat": 4,
  "vscode": {
   "interpreter": {
    "hash": "86de337ddf643eb96c825eddf188b9d07b329ad3e6f022c2cbb07a9b50fdd5ab"
   }
  }
 },
 "nbformat": 4,
 "nbformat_minor": 2
}
