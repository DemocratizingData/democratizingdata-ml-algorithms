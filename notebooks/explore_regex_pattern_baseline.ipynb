{
 "cells": [
  {
   "cell_type": "markdown",
   "metadata": {},
   "source": [
    "# Trying out a Regular Expression as a Baseline for High Recall\n",
    "\n",
    "Kaggle Model 2 uses the Schwartz-Heasrt (SW) algorithm for extracting candidate \n",
    "entities and then classifies them using a binary classifier (see \n",
    "`explore_schwartz_heart_baseline.ipynb` for more info). The SW algorithm will\n",
    "miss any entities that don't match the pattern LONG FORM (ACRONYM). In the \n",
    "evalution of the Kaggle private data set, this produced a recall of 0.65. So,\n",
    "at best models leveraging the SW algorithm will only produce a recall of 0.65.\n",
    "\n",
    "This notebook tries using a Regular Expression based extraction method to get \n",
    "candidates which is more flexible than the SW algorithm.\n"
   ]
  },
  {
   "cell_type": "code",
   "execution_count": 5,
   "metadata": {},
   "outputs": [],
   "source": [
    "from itertools import chain\n",
    "import json\n",
    "\n",
    "import pandas as pd\n",
    "from thefuzz import fuzz, process\n",
    "\n",
    "from src.models.regex_model import RegexModel\n",
    "from src.evaluate.model import evaluate_kaggle_private"
   ]
  },
  {
   "cell_type": "code",
   "execution_count": 2,
   "metadata": {},
   "outputs": [],
   "source": [
    "# the `scorer` and `processor` arguments are explained in the notebook\n",
    "# `defining_a_match_1.ipynb`\n",
    "\n",
    "evaluation = evaluate_kaggle_private(\n",
    "    RegexModel(dict()),\n",
    "    dict(),  # this model doesn't have any configuration params\n",
    "    scorer=fuzz.partial_ratio,  # use fuzzy string matching\n",
    "    processor=lambda s: s.lower(),  # convert to lowercase\n",
    ")"
   ]
  },
  {
   "cell_type": "code",
   "execution_count": 3,
   "metadata": {},
   "outputs": [
    {
     "data": {
      "text/plain": [
       "\n",
       "        Model Evaluation:\n",
       "\n",
       "        - Run time: 3.1389195919036865 seconds, avg: 0.00038929921764897514 seconds per sample\n",
       "        - True Postive Count: 16087, avg: 1.9951630906610442 per sample\n",
       "        - Precision: 0.07309182936304198\n",
       "        - Recall: 0.4545120641916709\n",
       "        "
      ]
     },
     "execution_count": 3,
     "metadata": {},
     "output_type": "execute_result"
    }
   ],
   "source": [
    "evaluation"
   ]
  },
  {
   "cell_type": "code",
   "execution_count": 6,
   "metadata": {},
   "outputs": [],
   "source": [
    "stats = evaluation.output_statistics\n",
    "all_labels = list(chain(*list(map(lambda x: x[\"labels\"], stats[\"statistics\"].values))))\n",
    "global_stats = list(chain(*list(map(lambda x: x[\"stats\"], stats[\"statistics\"].values))))"
   ]
  },
  {
   "cell_type": "code",
   "execution_count": 7,
   "metadata": {},
   "outputs": [
    {
     "data": {
      "text/html": [
       "<div>\n",
       "<style scoped>\n",
       "    .dataframe tbody tr th:only-of-type {\n",
       "        vertical-align: middle;\n",
       "    }\n",
       "\n",
       "    .dataframe tbody tr th {\n",
       "        vertical-align: top;\n",
       "    }\n",
       "\n",
       "    .dataframe thead th {\n",
       "        text-align: right;\n",
       "    }\n",
       "</style>\n",
       "<table border=\"1\" class=\"dataframe\">\n",
       "  <thead>\n",
       "    <tr style=\"text-align: right;\">\n",
       "      <th></th>\n",
       "      <th>stats</th>\n",
       "    </tr>\n",
       "    <tr>\n",
       "      <th>labels</th>\n",
       "      <th></th>\n",
       "    </tr>\n",
       "  </thead>\n",
       "  <tbody>\n",
       "    <tr>\n",
       "      <th>dbgap</th>\n",
       "      <td>3712</td>\n",
       "    </tr>\n",
       "    <tr>\n",
       "      <th>women s interagency hiv study</th>\n",
       "      <td>325</td>\n",
       "    </tr>\n",
       "    <tr>\n",
       "      <th>multicenter aids cohort study</th>\n",
       "      <td>276</td>\n",
       "    </tr>\n",
       "    <tr>\n",
       "      <th>pisa</th>\n",
       "      <td>263</td>\n",
       "    </tr>\n",
       "    <tr>\n",
       "      <th>women s interagency hiv study wihs</th>\n",
       "      <td>226</td>\n",
       "    </tr>\n",
       "    <tr>\n",
       "      <th>...</th>\n",
       "      <td>...</td>\n",
       "    </tr>\n",
       "    <tr>\n",
       "      <th>genetics neuroimaging and clinical data</th>\n",
       "      <td>1</td>\n",
       "    </tr>\n",
       "    <tr>\n",
       "      <th>genetic variants gene expression and phenotype data</th>\n",
       "      <td>1</td>\n",
       "    </tr>\n",
       "    <tr>\n",
       "      <th>genetic study</th>\n",
       "      <td>1</td>\n",
       "    </tr>\n",
       "    <tr>\n",
       "      <th>genetic epidemiology research on aging</th>\n",
       "      <td>1</td>\n",
       "    </tr>\n",
       "    <tr>\n",
       "      <th>zulu gwas</th>\n",
       "      <td>1</td>\n",
       "    </tr>\n",
       "  </tbody>\n",
       "</table>\n",
       "<p>5887 rows × 1 columns</p>\n",
       "</div>"
      ],
      "text/plain": [
       "                                                    stats\n",
       "labels                                                   \n",
       "dbgap                                                3712\n",
       "women s interagency hiv study                         325\n",
       "multicenter aids cohort study                         276\n",
       "pisa                                                  263\n",
       "women s interagency hiv study wihs                    226\n",
       "...                                                   ...\n",
       "genetics neuroimaging and clinical data                 1\n",
       "genetic variants gene expression and phenotype ...      1\n",
       "genetic study                                           1\n",
       "genetic epidemiology research on aging                  1\n",
       "zulu gwas                                               1\n",
       "\n",
       "[5887 rows x 1 columns]"
      ]
     },
     "execution_count": 7,
     "metadata": {},
     "output_type": "execute_result"
    }
   ],
   "source": [
    "stats_df = pd.DataFrame({\"labels\": all_labels, \"stats\": global_stats})\n",
    "stats_df.loc[stats_df[\"stats\"] == \"FN\", :].groupby(\"labels\").count().sort_values(\n",
    "    \"stats\", ascending=False\n",
    ")"
   ]
  },
  {
   "cell_type": "markdown",
   "metadata": {},
   "source": [
    "The regex doesn't include acronyms so dbgap was expected to not be found, let's look at `women s interagency hiv study`"
   ]
  },
  {
   "cell_type": "code",
   "execution_count": 9,
   "metadata": {},
   "outputs": [
    {
     "data": {
      "text/html": [
       "<div>\n",
       "<style scoped>\n",
       "    .dataframe tbody tr th:only-of-type {\n",
       "        vertical-align: middle;\n",
       "    }\n",
       "\n",
       "    .dataframe tbody tr th {\n",
       "        vertical-align: top;\n",
       "    }\n",
       "\n",
       "    .dataframe thead th {\n",
       "        text-align: right;\n",
       "    }\n",
       "</style>\n",
       "<table border=\"1\" class=\"dataframe\">\n",
       "  <thead>\n",
       "    <tr style=\"text-align: right;\">\n",
       "      <th></th>\n",
       "      <th>id</th>\n",
       "      <th>label</th>\n",
       "      <th>statistics</th>\n",
       "    </tr>\n",
       "  </thead>\n",
       "  <tbody>\n",
       "    <tr>\n",
       "      <th>7</th>\n",
       "      <td>a3f023f3d</td>\n",
       "      <td>aids clinical trials group study a5078|multice...</td>\n",
       "      <td>{'labels': ['aids clinical trials group study ...</td>\n",
       "    </tr>\n",
       "    <tr>\n",
       "      <th>38</th>\n",
       "      <td>407584a01</td>\n",
       "      <td>hers|hiv epidemiology research study|wihs|wome...</td>\n",
       "      <td>{'labels': ['hers', 'hiv epidemiology research...</td>\n",
       "    </tr>\n",
       "    <tr>\n",
       "      <th>53</th>\n",
       "      <td>5b470b7ef</td>\n",
       "      <td>wihs|women s interagency hiv study|women s int...</td>\n",
       "      <td>{'labels': ['wihs', 'women s interagency hiv s...</td>\n",
       "    </tr>\n",
       "    <tr>\n",
       "      <th>76</th>\n",
       "      <td>7a5f5a8b6</td>\n",
       "      <td>hiv epidemiology research study|women s intera...</td>\n",
       "      <td>{'labels': ['hiv epidemiology research study',...</td>\n",
       "    </tr>\n",
       "    <tr>\n",
       "      <th>106</th>\n",
       "      <td>9dec63cff</td>\n",
       "      <td>wihs|women s interagency hiv study|women s int...</td>\n",
       "      <td>{'labels': ['wihs', 'women s interagency hiv s...</td>\n",
       "    </tr>\n",
       "    <tr>\n",
       "      <th>...</th>\n",
       "      <td>...</td>\n",
       "      <td>...</td>\n",
       "      <td>...</td>\n",
       "    </tr>\n",
       "    <tr>\n",
       "      <th>7968</th>\n",
       "      <td>62acc2610</td>\n",
       "      <td>women s interagency hiv study|women s interage...</td>\n",
       "      <td>{'labels': ['women s interagency hiv study', '...</td>\n",
       "    </tr>\n",
       "    <tr>\n",
       "      <th>7995</th>\n",
       "      <td>e231de2ba</td>\n",
       "      <td>women s interagency hiv study|women s interage...</td>\n",
       "      <td>{'labels': ['women s interagency hiv study', '...</td>\n",
       "    </tr>\n",
       "    <tr>\n",
       "      <th>8024</th>\n",
       "      <td>5684db52a</td>\n",
       "      <td>multicenter aids cohort study|women s interage...</td>\n",
       "      <td>{'labels': ['multicenter aids cohort study', '...</td>\n",
       "    </tr>\n",
       "    <tr>\n",
       "      <th>8036</th>\n",
       "      <td>3f93412d2</td>\n",
       "      <td>women s interagency hiv study|women s interage...</td>\n",
       "      <td>{'labels': ['women s interagency hiv study', '...</td>\n",
       "    </tr>\n",
       "    <tr>\n",
       "      <th>8041</th>\n",
       "      <td>3bf030dd1</td>\n",
       "      <td>multicenter aids cohort study|multicenter aids...</td>\n",
       "      <td>{'labels': ['multicenter aids cohort study', '...</td>\n",
       "    </tr>\n",
       "  </tbody>\n",
       "</table>\n",
       "<p>321 rows × 3 columns</p>\n",
       "</div>"
      ],
      "text/plain": [
       "             id                                              label  \\\n",
       "7     a3f023f3d  aids clinical trials group study a5078|multice...   \n",
       "38    407584a01  hers|hiv epidemiology research study|wihs|wome...   \n",
       "53    5b470b7ef  wihs|women s interagency hiv study|women s int...   \n",
       "76    7a5f5a8b6  hiv epidemiology research study|women s intera...   \n",
       "106   9dec63cff  wihs|women s interagency hiv study|women s int...   \n",
       "...         ...                                                ...   \n",
       "7968  62acc2610  women s interagency hiv study|women s interage...   \n",
       "7995  e231de2ba  women s interagency hiv study|women s interage...   \n",
       "8024  5684db52a  multicenter aids cohort study|women s interage...   \n",
       "8036  3f93412d2  women s interagency hiv study|women s interage...   \n",
       "8041  3bf030dd1  multicenter aids cohort study|multicenter aids...   \n",
       "\n",
       "                                             statistics  \n",
       "7     {'labels': ['aids clinical trials group study ...  \n",
       "38    {'labels': ['hers', 'hiv epidemiology research...  \n",
       "53    {'labels': ['wihs', 'women s interagency hiv s...  \n",
       "76    {'labels': ['hiv epidemiology research study',...  \n",
       "106   {'labels': ['wihs', 'women s interagency hiv s...  \n",
       "...                                                 ...  \n",
       "7968  {'labels': ['women s interagency hiv study', '...  \n",
       "7995  {'labels': ['women s interagency hiv study', '...  \n",
       "8024  {'labels': ['multicenter aids cohort study', '...  \n",
       "8036  {'labels': ['women s interagency hiv study', '...  \n",
       "8041  {'labels': ['multicenter aids cohort study', '...  \n",
       "\n",
       "[321 rows x 3 columns]"
      ]
     },
     "execution_count": 9,
     "metadata": {},
     "output_type": "execute_result"
    }
   ],
   "source": [
    "def model_missed_label(label, row):\n",
    "    if label in row[\"labels\"]:\n",
    "        lbl_idx = row[\"labels\"].index(label)\n",
    "        return row[\"stats\"][lbl_idx] == \"FN\"\n",
    "    else:\n",
    "        return False\n",
    "\n",
    "\n",
    "missed_mask = stats[\"statistics\"].apply(lambda row: model_missed_label(\"women s interagency hiv study\", row))\n",
    "missed = stats.loc[missed_mask, :]\n",
    "missed"
   ]
  },
  {
   "cell_type": "markdown",
   "metadata": {},
   "source": [
    "The missed sample from `5b470b7ef.json` looks like this:\n",
    "\n",
    "*This investigation was a part of the **Women's Interagency HIV Study (WIHS)**, an ongoing U.S. multicenter prospective cohort investigation of HIV infection among HIV seropositive women and seronegative comparison women at risk for HIV.*\n",
    "\n",
    "The current Regex doesn't include Acronyms within the entity name. It also doesn't allow for `'s` as the closing symbol on a group which should be allowed too.\n",
    "\n",
    "The regex should be updated to include acronyms within the entity name itself,\n",
    "not just at the end. Additionally, there should be a whitelist of ubiquitous\n",
    "names or acronyms to always catch."
   ]
  }
 ],
 "metadata": {
  "kernelspec": {
   "display_name": "Python 3.10.8 ('democratizingdata-ml-algo')",
   "language": "python",
   "name": "python3"
  },
  "language_info": {
   "codemirror_mode": {
    "name": "ipython",
    "version": 3
   },
   "file_extension": ".py",
   "mimetype": "text/x-python",
   "name": "python",
   "nbconvert_exporter": "python",
   "pygments_lexer": "ipython3",
   "version": "3.10.8"
  },
  "orig_nbformat": 4,
  "vscode": {
   "interpreter": {
    "hash": "b3e03aa19f4cee1cca181f326aea7726af1ea307b5fcbfd54a41f945b089b370"
   }
  }
 },
 "nbformat": 4,
 "nbformat_minor": 2
}
