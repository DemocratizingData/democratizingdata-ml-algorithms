{
 "cells": [
  {
   "cell_type": "markdown",
   "metadata": {},
   "source": [
    "# Trying out a Regular Expression as a Baseline for High Recall\n",
    "\n",
    "Kaggle Model 2 uses the Schwartz-Heasrt (SW) algorithm for extracting candidate \n",
    "entities and then classifies them using a binary classifier (see \n",
    "`explore_schwartz_heart_baseline.ipynb` for more info). The SW algorithm will\n",
    "miss any entities that don't match the pattern LONG FORM (ACRONYM). In the \n",
    "evalution of the Kaggle private data set, this produced a recall of 0.65. So,\n",
    "at best models leveraging the SW algorithm will only produce a recall of 0.65.\n",
    "\n",
    "This notebook tries using a Regular Expression based extraction method to get \n",
    "candidates which is more flexible than the SW algorithm.\n"
   ]
  },
  {
   "cell_type": "code",
   "execution_count": 1,
   "metadata": {},
   "outputs": [],
   "source": [
    "from itertools import chain\n",
    "import json\n",
    "\n",
    "import pandas as pd\n",
    "from thefuzz import fuzz, process\n",
    "\n",
    "import src.models.regex_model as rm\n",
    "from src.data.kaggle_repository import KaggleRepository\n",
    "from src.evaluate.model import evaluate_model, evaluate_kaggle_private"
   ]
  },
  {
   "cell_type": "code",
   "execution_count": 4,
   "metadata": {},
   "outputs": [],
   "source": [
    "repo = KaggleRepository()"
   ]
  },
  {
   "cell_type": "code",
   "execution_count": 24,
   "metadata": {},
   "outputs": [],
   "source": [
    "# the `scorer` and `processor` arguments are explained in the notebook\n",
    "# `defining_a_match_1.ipynb`\n",
    "\n",
    "evaluation = evaluate_kaggle_private(\n",
    "    rm.RegexModel(dict()),\n",
    "    dict(),  # this model doesn't have any configuration params\n",
    "    scorer=fuzz.partial_ratio,  # use fuzzy string matching\n",
    "    processor=lambda s: s.lower(),  # convert to lowercase\n",
    ")"
   ]
  },
  {
   "cell_type": "code",
   "execution_count": 25,
   "metadata": {},
   "outputs": [
    {
     "data": {
      "text/plain": [
       "\n",
       "        Model Evaluation:\n",
       "\n",
       "        - Run time: 52.208805322647095 seconds, avg: 0.00647510918053418 seconds per sample\n",
       "        - True Postive Count: 24139, avg: 2.993798834180826 per sample\n",
       "        - Precision: 0.07442429773418881\n",
       "        - Recall: 0.6834758480095136\n",
       "        "
      ]
     },
     "execution_count": 25,
     "metadata": {},
     "output_type": "execute_result"
    }
   ],
   "source": [
    "evaluation = evaluate_model(\n",
    "    repo, \n",
    "    rm.RegexModel(dict()), \n",
    "    dict(),\n",
    ")\n",
    "\n",
    "evaluation"
   ]
  },
  {
   "cell_type": "code",
   "execution_count": 26,
   "metadata": {},
   "outputs": [],
   "source": [
    "stats = evaluation.output_statistics\n",
    "all_labels = list(chain(*list(map(lambda x: x[\"labels\"], stats[\"statistics\"].values))))\n",
    "global_stats = list(chain(*list(map(lambda x: x[\"stats\"], stats[\"statistics\"].values))))"
   ]
  },
  {
   "cell_type": "code",
   "execution_count": 27,
   "metadata": {},
   "outputs": [
    {
     "data": {
      "text/html": [
       "<div>\n",
       "<style scoped>\n",
       "    .dataframe tbody tr th:only-of-type {\n",
       "        vertical-align: middle;\n",
       "    }\n",
       "\n",
       "    .dataframe tbody tr th {\n",
       "        vertical-align: top;\n",
       "    }\n",
       "\n",
       "    .dataframe thead th {\n",
       "        text-align: right;\n",
       "    }\n",
       "</style>\n",
       "<table border=\"1\" class=\"dataframe\">\n",
       "  <thead>\n",
       "    <tr style=\"text-align: right;\">\n",
       "      <th></th>\n",
       "      <th>stats</th>\n",
       "    </tr>\n",
       "    <tr>\n",
       "      <th>labels</th>\n",
       "      <th></th>\n",
       "    </tr>\n",
       "  </thead>\n",
       "  <tbody>\n",
       "    <tr>\n",
       "      <th>dbgap</th>\n",
       "      <td>3710</td>\n",
       "    </tr>\n",
       "    <tr>\n",
       "      <th>database of genotypes and phenotypes</th>\n",
       "      <td>129</td>\n",
       "    </tr>\n",
       "    <tr>\n",
       "      <th>gtex</th>\n",
       "      <td>112</td>\n",
       "    </tr>\n",
       "    <tr>\n",
       "      <th>1000 genomes project</th>\n",
       "      <td>110</td>\n",
       "    </tr>\n",
       "    <tr>\n",
       "      <th>database of genotypes and phenotypes dbgap</th>\n",
       "      <td>83</td>\n",
       "    </tr>\n",
       "    <tr>\n",
       "      <th>...</th>\n",
       "      <td>...</td>\n",
       "    </tr>\n",
       "    <tr>\n",
       "      <th>genemania</th>\n",
       "      <td>1</td>\n",
       "    </tr>\n",
       "    <tr>\n",
       "      <th>genenetwork</th>\n",
       "      <td>1</td>\n",
       "    </tr>\n",
       "    <tr>\n",
       "      <th>genenetwork org</th>\n",
       "      <td>1</td>\n",
       "    </tr>\n",
       "    <tr>\n",
       "      <th>generation scotland</th>\n",
       "      <td>1</td>\n",
       "    </tr>\n",
       "    <tr>\n",
       "      <th>zulu gwas</th>\n",
       "      <td>1</td>\n",
       "    </tr>\n",
       "  </tbody>\n",
       "</table>\n",
       "<p>3747 rows × 1 columns</p>\n",
       "</div>"
      ],
      "text/plain": [
       "                                             stats\n",
       "labels                                            \n",
       "dbgap                                         3710\n",
       "database of genotypes and phenotypes           129\n",
       "gtex                                           112\n",
       "1000 genomes project                           110\n",
       "database of genotypes and phenotypes dbgap      83\n",
       "...                                            ...\n",
       "genemania                                        1\n",
       "genenetwork                                      1\n",
       "genenetwork org                                  1\n",
       "generation scotland                              1\n",
       "zulu gwas                                        1\n",
       "\n",
       "[3747 rows x 1 columns]"
      ]
     },
     "execution_count": 27,
     "metadata": {},
     "output_type": "execute_result"
    }
   ],
   "source": [
    "stats_df = pd.DataFrame({\"labels\": all_labels, \"stats\": global_stats})\n",
    "stats_df.loc[stats_df[\"stats\"] == \"FN\", :].groupby(\"labels\").count().sort_values(\n",
    "    \"stats\", ascending=False\n",
    ")"
   ]
  },
  {
   "attachments": {},
   "cell_type": "markdown",
   "metadata": {},
   "source": [
    "Let's try adding some explicit keywords that we want to include that don't alway match the rules. "
   ]
  },
  {
   "cell_type": "code",
   "execution_count": 31,
   "metadata": {},
   "outputs": [
    {
     "data": {
      "text/plain": [
       "\n",
       "        Model Evaluation:\n",
       "\n",
       "        - Run time: 100.09639191627502 seconds, avg: 0.012414286483476996 seconds per sample\n",
       "        - True Postive Count: 28030, avg: 3.4763735582289472 per sample\n",
       "        - Precision: 0.0853339990379756\n",
       "        - Recall: 0.7985299982906957\n",
       "        "
      ]
     },
     "execution_count": 31,
     "metadata": {},
     "output_type": "execute_result"
    }
   ],
   "source": [
    "keywords = [\n",
    "    \"database of genotypes and phenotypes\",\n",
    "    \"dbgap\",\n",
    "    \"DART buoy\",\n",
    "    \"pisa\"\n",
    "]\n",
    "\n",
    "evaluation_with_keywords = evaluate_model(\n",
    "    repo, \n",
    "    rm.RegexModel(dict(keywords=keywords)), \n",
    "    dict(),\n",
    ")\n",
    "\n",
    "evaluation_with_keywords"
   ]
  },
  {
   "cell_type": "code",
   "execution_count": 29,
   "metadata": {},
   "outputs": [],
   "source": [
    "stats = evaluation_with_keywords.output_statistics\n",
    "all_labels = list(chain(*list(map(lambda x: x[\"labels\"], stats[\"statistics\"].values))))\n",
    "global_stats = list(chain(*list(map(lambda x: x[\"stats\"], stats[\"statistics\"].values))))"
   ]
  },
  {
   "cell_type": "code",
   "execution_count": 30,
   "metadata": {},
   "outputs": [
    {
     "data": {
      "text/html": [
       "<div>\n",
       "<style scoped>\n",
       "    .dataframe tbody tr th:only-of-type {\n",
       "        vertical-align: middle;\n",
       "    }\n",
       "\n",
       "    .dataframe tbody tr th {\n",
       "        vertical-align: top;\n",
       "    }\n",
       "\n",
       "    .dataframe thead th {\n",
       "        text-align: right;\n",
       "    }\n",
       "</style>\n",
       "<table border=\"1\" class=\"dataframe\">\n",
       "  <thead>\n",
       "    <tr style=\"text-align: right;\">\n",
       "      <th></th>\n",
       "      <th>stats</th>\n",
       "    </tr>\n",
       "    <tr>\n",
       "      <th>labels</th>\n",
       "      <th></th>\n",
       "    </tr>\n",
       "  </thead>\n",
       "  <tbody>\n",
       "    <tr>\n",
       "      <th>gtex</th>\n",
       "      <td>112</td>\n",
       "    </tr>\n",
       "    <tr>\n",
       "      <th>1000 genomes project</th>\n",
       "      <td>110</td>\n",
       "    </tr>\n",
       "    <tr>\n",
       "      <th>business r d and innovation survey</th>\n",
       "      <td>79</td>\n",
       "    </tr>\n",
       "    <tr>\n",
       "      <th>dbsnp</th>\n",
       "      <td>75</td>\n",
       "    </tr>\n",
       "    <tr>\n",
       "      <th>dart buoy</th>\n",
       "      <td>73</td>\n",
       "    </tr>\n",
       "    <tr>\n",
       "      <th>...</th>\n",
       "      <td>...</td>\n",
       "    </tr>\n",
       "    <tr>\n",
       "      <th>generation scotland geneva</th>\n",
       "      <td>1</td>\n",
       "    </tr>\n",
       "    <tr>\n",
       "      <th>genereviews</th>\n",
       "      <td>1</td>\n",
       "    </tr>\n",
       "    <tr>\n",
       "      <th>generif</th>\n",
       "      <td>1</td>\n",
       "    </tr>\n",
       "    <tr>\n",
       "      <th>genes and genomes database</th>\n",
       "      <td>1</td>\n",
       "    </tr>\n",
       "    <tr>\n",
       "      <th>zulu gwas</th>\n",
       "      <td>1</td>\n",
       "    </tr>\n",
       "  </tbody>\n",
       "</table>\n",
       "<p>3692 rows × 1 columns</p>\n",
       "</div>"
      ],
      "text/plain": [
       "                                    stats\n",
       "labels                                   \n",
       "gtex                                  112\n",
       "1000 genomes project                  110\n",
       "business r d and innovation survey     79\n",
       "dbsnp                                  75\n",
       "dart buoy                              73\n",
       "...                                   ...\n",
       "generation scotland geneva              1\n",
       "genereviews                             1\n",
       "generif                                 1\n",
       "genes and genomes database              1\n",
       "zulu gwas                               1\n",
       "\n",
       "[3692 rows x 1 columns]"
      ]
     },
     "execution_count": 30,
     "metadata": {},
     "output_type": "execute_result"
    }
   ],
   "source": [
    "stats_df = pd.DataFrame({\"labels\": all_labels, \"stats\": global_stats})\n",
    "stats_df.loc[stats_df[\"stats\"] == \"FN\", :].groupby(\"labels\").count().sort_values(\n",
    "    \"stats\", ascending=False\n",
    ")"
   ]
  },
  {
   "cell_type": "markdown",
   "metadata": {},
   "source": [
    "The regex doesn't include acronyms so dbgap was expected to not be found, let's look at `women s interagency hiv study`"
   ]
  },
  {
   "cell_type": "code",
   "execution_count": 16,
   "metadata": {},
   "outputs": [
    {
     "data": {
      "text/html": [
       "<div>\n",
       "<style scoped>\n",
       "    .dataframe tbody tr th:only-of-type {\n",
       "        vertical-align: middle;\n",
       "    }\n",
       "\n",
       "    .dataframe tbody tr th {\n",
       "        vertical-align: top;\n",
       "    }\n",
       "\n",
       "    .dataframe thead th {\n",
       "        text-align: right;\n",
       "    }\n",
       "</style>\n",
       "<table border=\"1\" class=\"dataframe\">\n",
       "  <thead>\n",
       "    <tr style=\"text-align: right;\">\n",
       "      <th></th>\n",
       "      <th>id</th>\n",
       "      <th>label</th>\n",
       "      <th>statistics</th>\n",
       "    </tr>\n",
       "  </thead>\n",
       "  <tbody>\n",
       "    <tr>\n",
       "      <th>38</th>\n",
       "      <td>407584a01</td>\n",
       "      <td>hers|hiv epidemiology research study|wihs|wome...</td>\n",
       "      <td>{'labels': ['hiv epidemiology research study',...</td>\n",
       "    </tr>\n",
       "    <tr>\n",
       "      <th>53</th>\n",
       "      <td>5b470b7ef</td>\n",
       "      <td>wihs|women s interagency hiv study|women s int...</td>\n",
       "      <td>{'labels': ['women s interagency hiv study', '...</td>\n",
       "    </tr>\n",
       "    <tr>\n",
       "      <th>106</th>\n",
       "      <td>9dec63cff</td>\n",
       "      <td>wihs|women s interagency hiv study|women s int...</td>\n",
       "      <td>{'labels': ['women s interagency hiv study', '...</td>\n",
       "    </tr>\n",
       "    <tr>\n",
       "      <th>114</th>\n",
       "      <td>3a3e7e66c</td>\n",
       "      <td>genbank database|hiv blast|rega hiv 1 automate...</td>\n",
       "      <td>{'labels': ['women s interagency hiv study', '...</td>\n",
       "    </tr>\n",
       "    <tr>\n",
       "      <th>230</th>\n",
       "      <td>90426633c</td>\n",
       "      <td>wihs|women s interagency hiv study|women s int...</td>\n",
       "      <td>{'labels': ['women s interagency hiv study', '...</td>\n",
       "    </tr>\n",
       "    <tr>\n",
       "      <th>...</th>\n",
       "      <td>...</td>\n",
       "      <td>...</td>\n",
       "      <td>...</td>\n",
       "    </tr>\n",
       "    <tr>\n",
       "      <th>7783</th>\n",
       "      <td>14e5b1a69</td>\n",
       "      <td>wihs|women s interagency hiv study|women s int...</td>\n",
       "      <td>{'labels': ['women s interagency hiv study', '...</td>\n",
       "    </tr>\n",
       "    <tr>\n",
       "      <th>7815</th>\n",
       "      <td>605a4cb71</td>\n",
       "      <td>wihs|women s interagency hiv study|women s int...</td>\n",
       "      <td>{'labels': ['women s interagency hiv study', '...</td>\n",
       "    </tr>\n",
       "    <tr>\n",
       "      <th>7820</th>\n",
       "      <td>6295e8bb6</td>\n",
       "      <td>aric|atherosclerosis risk in communities|d a d...</td>\n",
       "      <td>{'labels': ['atherosclerosis risk in communiti...</td>\n",
       "    </tr>\n",
       "    <tr>\n",
       "      <th>7829</th>\n",
       "      <td>9755b1f7c</td>\n",
       "      <td>macs|multicenter aids cohort study|multicenter...</td>\n",
       "      <td>{'labels': ['multicenter aids cohort study', '...</td>\n",
       "    </tr>\n",
       "    <tr>\n",
       "      <th>7891</th>\n",
       "      <td>5dd6e1120</td>\n",
       "      <td>danish hiv cohort study|data collection on adv...</td>\n",
       "      <td>{'labels': ['danish hiv cohort study', 'data c...</td>\n",
       "    </tr>\n",
       "  </tbody>\n",
       "</table>\n",
       "<p>122 rows × 3 columns</p>\n",
       "</div>"
      ],
      "text/plain": [
       "             id                                              label  \\\n",
       "38    407584a01  hers|hiv epidemiology research study|wihs|wome...   \n",
       "53    5b470b7ef  wihs|women s interagency hiv study|women s int...   \n",
       "106   9dec63cff  wihs|women s interagency hiv study|women s int...   \n",
       "114   3a3e7e66c  genbank database|hiv blast|rega hiv 1 automate...   \n",
       "230   90426633c  wihs|women s interagency hiv study|women s int...   \n",
       "...         ...                                                ...   \n",
       "7783  14e5b1a69  wihs|women s interagency hiv study|women s int...   \n",
       "7815  605a4cb71  wihs|women s interagency hiv study|women s int...   \n",
       "7820  6295e8bb6  aric|atherosclerosis risk in communities|d a d...   \n",
       "7829  9755b1f7c  macs|multicenter aids cohort study|multicenter...   \n",
       "7891  5dd6e1120  danish hiv cohort study|data collection on adv...   \n",
       "\n",
       "                                             statistics  \n",
       "38    {'labels': ['hiv epidemiology research study',...  \n",
       "53    {'labels': ['women s interagency hiv study', '...  \n",
       "106   {'labels': ['women s interagency hiv study', '...  \n",
       "114   {'labels': ['women s interagency hiv study', '...  \n",
       "230   {'labels': ['women s interagency hiv study', '...  \n",
       "...                                                 ...  \n",
       "7783  {'labels': ['women s interagency hiv study', '...  \n",
       "7815  {'labels': ['women s interagency hiv study', '...  \n",
       "7820  {'labels': ['atherosclerosis risk in communiti...  \n",
       "7829  {'labels': ['multicenter aids cohort study', '...  \n",
       "7891  {'labels': ['danish hiv cohort study', 'data c...  \n",
       "\n",
       "[122 rows x 3 columns]"
      ]
     },
     "execution_count": 16,
     "metadata": {},
     "output_type": "execute_result"
    }
   ],
   "source": [
    "def model_missed_label(label, row):\n",
    "    if label in row[\"labels\"]:\n",
    "        lbl_idx = row[\"labels\"].index(label)\n",
    "        return row[\"stats\"][lbl_idx] == \"FN\"\n",
    "    else:\n",
    "        return False\n",
    "\n",
    "\n",
    "missed_mask = stats[\"statistics\"].apply(lambda row: model_missed_label(\"wihs\", row))\n",
    "missed = stats.loc[missed_mask, :]\n",
    "missed"
   ]
  },
  {
   "attachments": {},
   "cell_type": "markdown",
   "metadata": {},
   "source": [
    "The missed sample from `b043c048c.json` looks like this:\n",
    "\n",
    "*The fi ve included datasets were from the USA National Institute on Aging, UK, Germany, France, and the USA **database of genotypes and phenotypes**.*\n",
    "\n",
    "This is all lower case and is an expected miss."
   ]
  }
 ],
 "metadata": {
  "kernelspec": {
   "display_name": "democratizing-data-ml-algorithms",
   "language": "python",
   "name": "python3"
  },
  "language_info": {
   "codemirror_mode": {
    "name": "ipython",
    "version": 3
   },
   "file_extension": ".py",
   "mimetype": "text/x-python",
   "name": "python",
   "nbconvert_exporter": "python",
   "pygments_lexer": "ipython3",
   "version": "3.10.8"
  },
  "orig_nbformat": 4,
  "vscode": {
   "interpreter": {
    "hash": "2b291ab9446582050e02bff38bdb2cc08a6891ecc485df1df216546589a982e9"
   }
  }
 },
 "nbformat": 4,
 "nbformat_minor": 2
}
