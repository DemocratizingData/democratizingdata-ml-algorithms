{
 "cells": [
  {
   "cell_type": "code",
   "execution_count": null,
   "id": "a0629f14-c3ae-4b15-91ca-96f9e95732a0",
   "metadata": {},
   "outputs": [],
   "source": [
    "import json\n",
    "import os\n",
    "from importlib import reload \n",
    "\n",
    "import pandas as pd\n",
    "from thefuzz import fuzz, process\n",
    "from rapidfuzz.distance import Levenshtein\n",
    "\n",
    "import democratizing_data_ml_algorithms.data.kaggle_repository as kr\n",
    "import democratizing_data_ml_algorithms.evaluate.model as em"
   ]
  },
  {
   "cell_type": "code",
   "execution_count": null,
   "id": "198c97b1-4696-4981-9316-0c18f9046e8d",
   "metadata": {},
   "outputs": [],
   "source": [
    "class MockRepo:\n",
    "    def __init__(self, df):\n",
    "        self.df = df\n",
    "    def get_validation_data(self):\n",
    "        return self.df\n",
    "    def copy(self):\n",
    "        return MockRepo(self.df.copy())\n",
    "        \n",
    "repo = MockRepo(kr.KaggleRepository().get_validation_data())"
   ]
  },
  {
   "cell_type": "code",
   "execution_count": null,
   "id": "6a63e872-f3b1-46a0-a991-69e3779ce936",
   "metadata": {},
   "outputs": [],
   "source": [
    "os.makedirs(\"eval_cache\", exist_ok=True)"
   ]
  },
  {
   "cell_type": "markdown",
   "id": "eb050804-e086-4761-95a8-ccb44c00add1",
   "metadata": {},
   "source": [
    "### String Matching"
   ]
  },
  {
   "cell_type": "code",
   "execution_count": null,
   "id": "4821cde9-6f69-4ec0-a4ca-09f7563eaad8",
   "metadata": {},
   "outputs": [],
   "source": [
    "import democratizing_data_ml_algorithms.models.kaggle_model3 as km3\n",
    "import democratizing_data_ml_algorithms.models.kaggle_model3_regex_inference as km3r\n",
    "import democratizing_data_ml_algorithms.models.regex_model as rm"
   ]
  },
  {
   "cell_type": "markdown",
   "id": "10cfd496-b089-479e-83ba-bef5b2d0429a",
   "metadata": {},
   "source": [
    "#### Simple String Matching"
   ]
  },
  {
   "cell_type": "code",
   "execution_count": null,
   "id": "803d5150-668e-4813-a2df-cc01aa2cb7a0",
   "metadata": {},
   "outputs": [],
   "source": [
    "km3_config = {\n",
    "    \"model_path\": \"../models/kaggle_model3/baseline/params.txt\",\n",
    "}\n",
    "\n",
    "km3_eval = em.evaluate_model(\n",
    "    repo.copy(),\n",
    "    km3.KaggleModel3(),\n",
    "    km3_config, \n",
    "    scorer = fuzz.partial_ratio,\n",
    ")\n",
    "\n",
    "with open(\"./eval_cache/km3_pr.json\", \"w\") as f:\n",
    "    json.dump(km3_eval.to_json(), f)\n",
    "\n",
    "km3_eval"
   ]
  },
  {
   "cell_type": "markdown",
   "id": "6d979043-d831-4fce-ac79-5bdd5842523c",
   "metadata": {},
   "source": [
    "#### Regex Enhanced Match"
   ]
  },
  {
   "cell_type": "code",
   "execution_count": null,
   "id": "576abedc-3c9c-4f70-a261-718b65c65896",
   "metadata": {},
   "outputs": [],
   "source": [
    "with open(km3_config[\"model_path\"], \"r\") as f:\n",
    "    keywords = [l.strip() for l in f.readlines()]"
   ]
  },
  {
   "cell_type": "code",
   "execution_count": null,
   "id": "b3988f3a-8f49-4f53-8e0d-741bea350601",
   "metadata": {},
   "outputs": [],
   "source": [
    "regex_config = {\n",
    "    \"keywords\": keywords,\n",
    "    \"regex_pattern\": \"\",\n",
    "}\n",
    "\n",
    "regex_eval = em.evaluate_model(\n",
    "    repo.copy(),\n",
    "    rm.RegexModel(regex_config),\n",
    "    dict(), \n",
    "    scorer = fuzz.partial_ratio,\n",
    ")\n",
    "\n",
    "with open(\"./eval_cache/regex_pr.json\", \"w\") as f:\n",
    "    json.dump(regex_eval.to_json(), f)\n",
    "\n",
    "regex_eval"
   ]
  },
  {
   "cell_type": "markdown",
   "id": "4ed87f78-e98d-4db2-801d-00df49e6ca27",
   "metadata": {},
   "source": [
    "### Entity Classification"
   ]
  },
  {
   "cell_type": "code",
   "execution_count": null,
   "id": "a3c06eff-1517-4470-8473-e67bef5c34ae",
   "metadata": {},
   "outputs": [],
   "source": [
    "import democratizing_data_ml_algorithms.models.kaggle_model2 as km2\n",
    "import democratizing_data_ml_algorithms.models.schwartz_hearst_model as shm"
   ]
  },
  {
   "cell_type": "markdown",
   "id": "13917356-778e-4913-93a0-4e9aa3cba2fa",
   "metadata": {},
   "source": [
    "#### Submitted Model 2"
   ]
  },
  {
   "cell_type": "code",
   "execution_count": null,
   "id": "4d827e32-c9c9-495a-8380-d3a6e5c63a2a",
   "metadata": {},
   "outputs": [],
   "source": [
    "km2_config = dict(\n",
    "    batch_size=16,\n",
    "    model_tokenizer_name=\"../models/kaggle_model2/baseline/model\",\n",
    "    min_prob=0.9,\n",
    "    extractor = shm.SchwartzHearstModel(),\n",
    "    extractor_config = dict(),\n",
    "    tokenizer_call_kwargs=dict(\n",
    "        return_tensors='pt',\n",
    "        padding=True,\n",
    "    ),\n",
    ")\n",
    "\n",
    "km2_eval = em.evaluate_model(\n",
    "    repo.copy(),\n",
    "    km2.KaggleModel2(),\n",
    "    km2_config,\n",
    "    scorer = fuzz.partial_ratio,\n",
    ")\n",
    "\n",
    "with open(\"./eval_cache/km2_pr.json\", \"w\") as f:\n",
    "    json.dump(km2_eval.to_json(), f)\n",
    "\n",
    "km2_eval"
   ]
  },
  {
   "cell_type": "markdown",
   "id": "d467a0ec-0daf-484a-b7c4-dcd2df28dc88",
   "metadata": {},
   "source": [
    "#### km2 with updates. New models weights and regular expression"
   ]
  },
  {
   "cell_type": "code",
   "execution_count": null,
   "id": "48963ff1-a2bd-4727-8ddd-c90db57440d0",
   "metadata": {},
   "outputs": [],
   "source": [
    "km2_update_config = dict(\n",
    "    batch_size=16,\n",
    "    model_tokenizer_name=\"../models/kaggle_model2/km2_ad4c81a2cb1d449dbf2ae89c940d5eb1\",\n",
    "    min_prob=0.9,\n",
    "    extractor = rm.RegexModel(dict()),\n",
    "    extractor_config = dict(),\n",
    "    tokenizer_call_kwargs=dict(\n",
    "        return_tensors='pt',\n",
    "        padding=True,\n",
    "        truncation=True,\n",
    "    ),\n",
    ")\n",
    "\n",
    "km2_update_eval = em.evaluate_model(\n",
    "    repo.copy(),\n",
    "    km2.KaggleModel2(),\n",
    "    km2_update_config,\n",
    "    scorer = fuzz.partial_ratio,\n",
    ")\n",
    "\n",
    "with open(\"./eval_cache/km2_update_pr.json\", \"w\") as f:\n",
    "    json.dump(km2_update_eval.to_json(), f)\n",
    "\n",
    "km2_update_eval"
   ]
  },
  {
   "cell_type": "markdown",
   "id": "0f6f5ed6-80bf-491a-8182-48f6844c1959",
   "metadata": {},
   "source": [
    "### Token Classification"
   ]
  },
  {
   "cell_type": "code",
   "execution_count": null,
   "id": "ee0b9b52-aa30-4d9e-9fdf-43a454ea3288",
   "metadata": {},
   "outputs": [],
   "source": [
    "import democratizing_data_ml_algorithms.models.kaggle_model1 as km1\n",
    "import democratizing_data_ml_algorithms.models.generic_model1 as gm1\n",
    "import democratizing_data_ml_algorithms.models.ner_model as nm"
   ]
  },
  {
   "cell_type": "markdown",
   "id": "988eb6a1-64d0-470b-a528-06478c33ad76",
   "metadata": {},
   "source": [
    "#### Submitted SciBERT\n",
    "\n",
    "Note this model can have a high variance."
   ]
  },
  {
   "cell_type": "code",
   "execution_count": null,
   "id": "b47c0a99-cf6e-4157-97d4-ed1ad35a265b",
   "metadata": {},
   "outputs": [],
   "source": [
    "model_base_path = \"../models/kaggle_model1/sub_scibert\"\n",
    "km1_scibert_config = dict(\n",
    "    support_mask_embedding_path = os.path.join(model_base_path, \"embeddings/support_embeddings.npy\"),\n",
    "    support_no_mask_embedding_path = os.path.join(model_base_path, \"embeddings/support_nomask_embeddings.npy\"),\n",
    "    n_support_samples = 100,\n",
    "    model_tokenizer_name = model_base_path,\n",
    "    weights_path = os.path.join(model_base_path, \"embeddings/\"),\n",
    "    batch_size = 128,\n",
    "    seq_len = 320,\n",
    "    overlap = 200,\n",
    "    is_roberta = False,\n",
    "    threshold = 0.7,\n",
    "    inference_progress_bar = True,\n",
    ")\n",
    "\n",
    "km1_scibert_eval = em.evaluate_model(\n",
    "    repo.copy(),\n",
    "    km1.KaggleModel1(),\n",
    "    km1_scibert_config,\n",
    "    scorer = fuzz.partial_ratio,\n",
    ")\n",
    "\n",
    "with open(\"./eval_cache/km1_scibert_pr.json\", \"w\") as f:\n",
    "    json.dump(km1_scibert_eval.to_json(), f)\n",
    "\n",
    "km1_scibert_eval"
   ]
  },
  {
   "cell_type": "code",
   "execution_count": null,
   "id": "95b7141b-e559-488b-85ea-ef34d1b40f65",
   "metadata": {},
   "outputs": [],
   "source": [
    "with open(\"./eval_cache/km1_scibert_pr.json\", \"r\") as f:\n",
    "    rec = json.load(f)\n",
    "em.ModelEvaluation.from_json(rec)"
   ]
  },
  {
   "cell_type": "code",
   "execution_count": null,
   "id": "5b26882a-09c7-49aa-ad4b-ce80a80cae1f",
   "metadata": {},
   "outputs": [],
   "source": [
    "with open(\"./eval_cache/km1_scibert_pr.json\", \"r\") as f:\n",
    "    rec = json.load(f)\n",
    "em.ModelEvaluation.from_json(rec)"
   ]
  },
  {
   "cell_type": "markdown",
   "id": "ed210999-cb56-4365-8c52-b64e2060edac",
   "metadata": {},
   "source": [
    "#### Submitted RoBERTa\n",
    "\n",
    "Note this model can have high variance."
   ]
  },
  {
   "cell_type": "code",
   "execution_count": null,
   "id": "b2c808c6-11b5-48e3-9a88-4c11e1ad9e81",
   "metadata": {},
   "outputs": [],
   "source": [
    "model_base_path = \"../models/kaggle_model1/sub_biomed_roberta\"\n",
    "km1_roberta_config = dict(\n",
    "    support_mask_embedding_path = os.path.join(model_base_path, \"embeddings/support_embeddings.npy\"),\n",
    "    support_no_mask_embedding_path = os.path.join(model_base_path, \"embeddings/support_nomask_embeddings.npy\"),\n",
    "    n_support_samples = 100,\n",
    "    model_tokenizer_name = model_base_path,\n",
    "    weights_path = os.path.join(model_base_path, \"embeddings/\"),\n",
    "    batch_size = 128,\n",
    "    seq_len = 320,\n",
    "    overlap = 200,\n",
    "    is_roberta = True,\n",
    "    threshold = 0.7,\n",
    "    inference_progress_bar = True,\n",
    ")\n",
    "\n",
    "km1_roberta_eval = em.evaluate_model(\n",
    "    repo.copy(),\n",
    "    km1.KaggleModel1(),\n",
    "    km1_roberta_config,\n",
    "    scorer = fuzz.partial_ratio,\n",
    ")\n",
    "\n",
    "with open(\"./eval_cache/km1_roberta_pr.json\", \"w\") as f:\n",
    "    json.dump(km1_roberta_eval.to_json(), f)\n",
    "\n",
    "km1_roberta_eval"
   ]
  },
  {
   "cell_type": "code",
   "execution_count": null,
   "id": "4e1b13ef-a5d0-46f9-9740-78b4e10f9268",
   "metadata": {},
   "outputs": [],
   "source": [
    "with open(\"./eval_cache/km1_roberta_pr.json\", \"r\") as f:\n",
    "    rec = json.load(f)\n",
    "em.ModelEvaluation.from_json(rec)"
   ]
  },
  {
   "cell_type": "markdown",
   "id": "e247f90b-bf72-46b0-8909-05276008e086",
   "metadata": {},
   "source": [
    "#### NER"
   ]
  },
  {
   "cell_type": "code",
   "execution_count": null,
   "id": "3a3efaaa-b1f1-4ac3-b931-67220182abf2",
   "metadata": {},
   "outputs": [],
   "source": [
    "key = \"b74f96f240ad41198d046232220ee024\"\n",
    "ner_config = dict(\n",
    "    batch_size = 16,\n",
    "    threshold = 0.7,\n",
    "    inference_progress_bar = True,\n",
    "    model_tokenizer_name = f\"../models/ner_model/baseline/{key}\",\n",
    "    model_kwargs=dict(),\n",
    "    tokenizer_kwargs=dict(add_prefix_space=True),\n",
    "    tokenizer_call_kwargs=dict(max_length=512, truncation=True, is_split_into_words=True),   \n",
    ")\n",
    "\n",
    "ner_eval = em.evaluate_model(\n",
    "    repo.copy(),\n",
    "    nm.NERModel_pytorch(),\n",
    "    ner_config,\n",
    "    scorer = fuzz.partial_ratio,\n",
    ")\n",
    "\n",
    "with open(\"./eval_cache/ner_pr.json\", \"w\") as f:\n",
    "    json.dump(ner_eval.to_json(), f)\n",
    "\n",
    "ner_eval"
   ]
  },
  {
   "cell_type": "code",
   "execution_count": null,
   "id": "aa818f7e-9f54-49c7-8d43-3e311ed0fddd",
   "metadata": {},
   "outputs": [],
   "source": [
    "with open(\"./eval_cache/ner_pr.json\", \"r\") as f:\n",
    "    rec = json.load(f)\n",
    "em.ModelEvaluation.from_json(rec)"
   ]
  },
  {
   "cell_type": "markdown",
   "id": "c40e8493-c90a-4523-8032-9a60da026d78",
   "metadata": {},
   "source": [
    "#### Retrained Model (RoBERTa) -- Implemented as GenericModel1\n"
   ]
  },
  {
   "cell_type": "code",
   "execution_count": null,
   "id": "d5f0df54-3208-4fce-8990-1502f09bfa65",
   "metadata": {},
   "outputs": [],
   "source": [
    "key = \"gm1_88ba3fdc63c646308ad15b648acd4843\"\n",
    "gm1_config = {\n",
    "    \"model_tokenizer_name\":f\"../models/generic_model1/baseline/{key}\",\n",
    "    \"tokenizer_kwargs\":{},\n",
    "    \"tokenizer_call_kwargs\": {\n",
    "        \"max_length\":256,\n",
    "        \"truncation\":True,\n",
    "        \"is_split_into_words\": True\n",
    "    },\n",
    "    \"model_kwargs\":{},\n",
    "    \"optimizer\":\"torch.optim.AdamW\",\n",
    "    \"optimizer_kwargs\":{\"lr\":1e-5},\n",
    "    \"metric_optimizer\":\"torch.optim.SGD\",\n",
    "    \"metric_optimizer_kwargs\":{\"lr\":1e-3},\n",
    "    \"batch_size\":32,\n",
    "    \"epochs\":1,\n",
    "    \"n_support_samples\": 10000,\n",
    "    \"support_mask_embedding_path\": f\"../models/generic_model1/baseline/{key}/embeddings/support_mask_embeddings.npy\",\n",
    "    \"support_no_mask_embedding_path\":  f\"../models/generic_model1/baseline/{key}/embeddings/support_nomask_embeddings.npy\",\n",
    "    \"steps_per_epoch\":5000,\n",
    "    \"steps_per_eval\":10,\n",
    "    \"balance_labels\":True,\n",
    "    \"n_query\":2,\n",
    "    \"save_model\":True,\n",
    "    \"scheduler\": \"torch.optim.lr_scheduler.CosineAnnealingLR\",\n",
    "    \"scheduler_kwargs\": {\"T_max\":100},\n",
    "    \"model_path\":\"baseline\",\n",
    "    \"inference_progress_bar\": True,\n",
    "    # added\n",
    "    \"threshold\": 0.7\n",
    "}\n",
    "\n",
    "gm1_eval = em.evaluate_model(\n",
    "    repo.copy(),\n",
    "    gm1.GenericModel1(),\n",
    "    gm1_config,\n",
    "    scorer = fuzz.partial_ratio,\n",
    ")\n",
    "\n",
    "with open(\"./eval_cache/gm1_pr.json\", \"w\") as f:\n",
    "    json.dump(gm1_eval.to_json(), f)\n",
    "\n",
    "gm1_eval"
   ]
  },
  {
   "cell_type": "code",
   "execution_count": null,
   "id": "20b637d4-a1ec-4f71-be43-ae81cad45288",
   "metadata": {},
   "outputs": [],
   "source": [
    "with open(\"./eval_cache/gm1_pr.json\", \"r\") as f:\n",
    "    rec = json.load(f)\n",
    "em.ModelEvaluation.from_json(rec)"
   ]
  },
  {
   "cell_type": "markdown",
   "id": "4b3e869b-eedd-435f-87af-2ba7e8aeff5c",
   "metadata": {},
   "source": [
    "### Ensemble"
   ]
  },
  {
   "cell_type": "code",
   "execution_count": null,
   "id": "ac81dd54-b00a-4cd2-a144-c900eea695cb",
   "metadata": {},
   "outputs": [],
   "source": [
    "\n",
    "pr = dict()\n",
    "\n",
    "with open(\"./eval_cache/regex_pr.json\", \"r\") as f:\n",
    "    pr[\"2\"] = em.ModelEvaluation.from_json(json.load(f))\n",
    "\n",
    "with open(\"./eval_cache/km2_update_pr.json\", \"r\") as f:\n",
    "    pr[\"4\"] = em.ModelEvaluation.from_json(json.load(f))\n",
    "\n",
    "with open(\"./eval_cache/ner_pr.json\", \"r\") as f:\n",
    "    pr[\"7\"] = em.ModelEvaluation.from_json(json.load(f))"
   ]
  },
  {
   "cell_type": "markdown",
   "id": "56cee33a-f721-48b0-b536-f0df2c5df21e",
   "metadata": {},
   "source": [
    "#### Regex + Retrained Model 2 = (2)+(4)"
   ]
  },
  {
   "cell_type": "code",
   "execution_count": null,
   "id": "51605b00-91f1-4397-96a8-7a450a65cd5f",
   "metadata": {},
   "outputs": [],
   "source": [
    "pr[\"2\"] | pr[\"4\"]"
   ]
  },
  {
   "cell_type": "markdown",
   "id": "d19c3088-4543-4bd0-8902-ee9f7ef8a38f",
   "metadata": {},
   "source": [
    "#### Regex + NER = (2) + (7)"
   ]
  },
  {
   "cell_type": "code",
   "execution_count": null,
   "id": "f942ce18-8001-4e58-a271-eb67e14de820",
   "metadata": {},
   "outputs": [],
   "source": [
    "pr[\"2\"] | pr[\"7\"]"
   ]
  },
  {
   "cell_type": "markdown",
   "id": "eb4348fb-f73c-4a11-9de1-eb77ec3ec24e",
   "metadata": {},
   "source": [
    "#### Retrained Model 2 + NER = (4)+(7)"
   ]
  },
  {
   "cell_type": "code",
   "execution_count": null,
   "id": "a172cccf-97f7-40d2-9942-f7646e904bc1",
   "metadata": {},
   "outputs": [],
   "source": [
    "pr[\"4\"] | pr[\"7\"]"
   ]
  },
  {
   "cell_type": "markdown",
   "id": "51c0b5e0-d079-4f6a-9401-4fa74bbab390",
   "metadata": {},
   "source": [
    "#### Regex + Retrained Model 2 + NER = (2) + (4) + (7)"
   ]
  },
  {
   "cell_type": "code",
   "execution_count": null,
   "id": "c0155b80-d839-4904-8cf5-0bd322ebf5dd",
   "metadata": {},
   "outputs": [],
   "source": [
    "pr[\"2\"] | pr[\"4\"] | pr[\"7\"]"
   ]
  }
 ],
 "metadata": {
  "kernelspec": {
   "display_name": "Python 3.9 (py39)",
   "language": "python",
   "name": "py39"
  },
  "language_info": {
   "codemirror_mode": {
    "name": "ipython",
    "version": 3
   },
   "file_extension": ".py",
   "mimetype": "text/x-python",
   "name": "python",
   "nbconvert_exporter": "python",
   "pygments_lexer": "ipython3",
   "version": "3.9.18"
  }
 },
 "nbformat": 4,
 "nbformat_minor": 5
}
