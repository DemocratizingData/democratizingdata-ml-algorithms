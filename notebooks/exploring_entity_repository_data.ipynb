{
 "cells": [
  {
   "attachments": {},
   "cell_type": "markdown",
   "metadata": {},
   "source": [
    "### Exploring The Entity Training Data Distribution\n",
    "\n",
    "This notebook explores the given entity datalabels and the what a reasonable\n",
    "train/test set might look like.\n",
    "\n",
    "Ultimately we want to generate samples with the following columns:\n",
    "\n",
    "- entity\n",
    "- label (1/0, 1=dataset)"
   ]
  },
  {
   "cell_type": "code",
   "execution_count": 17,
   "metadata": {},
   "outputs": [],
   "source": [
    "import matplotlib.pyplot as plt\n",
    "import pandas as pd\n",
    "from sklearn.model_selection import train_test_split"
   ]
  },
  {
   "cell_type": "code",
   "execution_count": 14,
   "metadata": {},
   "outputs": [
    {
     "data": {
      "text/html": [
       "<div>\n",
       "<style scoped>\n",
       "    .dataframe tbody tr th:only-of-type {\n",
       "        vertical-align: middle;\n",
       "    }\n",
       "\n",
       "    .dataframe tbody tr th {\n",
       "        vertical-align: top;\n",
       "    }\n",
       "\n",
       "    .dataframe thead th {\n",
       "        text-align: right;\n",
       "    }\n",
       "</style>\n",
       "<table border=\"1\" class=\"dataframe\">\n",
       "  <thead>\n",
       "    <tr style=\"text-align: right;\">\n",
       "      <th></th>\n",
       "      <th>entity</th>\n",
       "      <th>label</th>\n",
       "    </tr>\n",
       "  </thead>\n",
       "  <tbody>\n",
       "    <tr>\n",
       "      <th>0</th>\n",
       "      <td>National Education Longitudinal Study</td>\n",
       "      <td>1</td>\n",
       "    </tr>\n",
       "    <tr>\n",
       "      <th>1</th>\n",
       "      <td>NOAA tidal station</td>\n",
       "      <td>1</td>\n",
       "    </tr>\n",
       "    <tr>\n",
       "      <th>2</th>\n",
       "      <td>SLOSH model</td>\n",
       "      <td>1</td>\n",
       "    </tr>\n",
       "    <tr>\n",
       "      <th>3</th>\n",
       "      <td>NOAA C-CAP</td>\n",
       "      <td>1</td>\n",
       "    </tr>\n",
       "    <tr>\n",
       "      <th>4</th>\n",
       "      <td>Aging Integrated Database (AGID)</td>\n",
       "      <td>1</td>\n",
       "    </tr>\n",
       "    <tr>\n",
       "      <th>...</th>\n",
       "      <td>...</td>\n",
       "      <td>...</td>\n",
       "    </tr>\n",
       "    <tr>\n",
       "      <th>4999</th>\n",
       "      <td>NSF Survey of Federal Science and Engineering ...</td>\n",
       "      <td>1</td>\n",
       "    </tr>\n",
       "    <tr>\n",
       "      <th>5000</th>\n",
       "      <td>Survey of Federal Funds for Research and Devel...</td>\n",
       "      <td>1</td>\n",
       "    </tr>\n",
       "    <tr>\n",
       "      <th>5001</th>\n",
       "      <td>NSF Survey of Federal Funds for Research and D...</td>\n",
       "      <td>1</td>\n",
       "    </tr>\n",
       "    <tr>\n",
       "      <th>5002</th>\n",
       "      <td>National Science Foundation Survey of Federal ...</td>\n",
       "      <td>1</td>\n",
       "    </tr>\n",
       "    <tr>\n",
       "      <th>5003</th>\n",
       "      <td>National Center for Science and Engineering St...</td>\n",
       "      <td>1</td>\n",
       "    </tr>\n",
       "  </tbody>\n",
       "</table>\n",
       "<p>4957 rows × 2 columns</p>\n",
       "</div>"
      ],
      "text/plain": [
       "                                                 entity  label\n",
       "0                 National Education Longitudinal Study      1\n",
       "1                                    NOAA tidal station      1\n",
       "2                                           SLOSH model      1\n",
       "3                                            NOAA C-CAP      1\n",
       "4                      Aging Integrated Database (AGID)      1\n",
       "...                                                 ...    ...\n",
       "4999  NSF Survey of Federal Science and Engineering ...      1\n",
       "5000  Survey of Federal Funds for Research and Devel...      1\n",
       "5001  NSF Survey of Federal Funds for Research and D...      1\n",
       "5002  National Science Foundation Survey of Federal ...      1\n",
       "5003  National Center for Science and Engineering St...      1\n",
       "\n",
       "[4957 rows x 2 columns]"
      ]
     },
     "execution_count": 14,
     "metadata": {},
     "output_type": "execute_result"
    }
   ],
   "source": [
    "original_entity_list = pd.read_csv(\"../data/entity_classification/original_entity_list.csv\")\n",
    "ncses_priorities = pd.read_csv(\"../data/entity_classification/ncses_priorities.csv\")\n",
    "all_data = pd.concat([original_entity_list, ncses_priorities], ignore_index=True).drop_duplicates()\n",
    "all_data.rename(columns={\"long\": \"entity\", \"is_dataset\": \"label\"}, inplace=True)\n",
    "all_data"
   ]
  },
  {
   "cell_type": "code",
   "execution_count": 16,
   "metadata": {},
   "outputs": [],
   "source": [
    "train_df, test_df = train_test_split(all_data, test_size=0.2, random_state=42)"
   ]
  },
  {
   "cell_type": "code",
   "execution_count": 20,
   "metadata": {},
   "outputs": [
    {
     "data": {
      "text/plain": [
       "<AxesSubplot: >"
      ]
     },
     "execution_count": 20,
     "metadata": {},
     "output_type": "execute_result"
    },
    {
     "data": {
      "image/png": "[encoded data removed]",
      "text/plain": [
       "<Figure size 640x480 with 2 Axes>"
      ]
     },
     "metadata": {},
     "output_type": "display_data"
    }
   ],
   "source": [
    "f, (ax_train, ax_test) = plt.subplots(ncols=2)\n",
    "train_df.label.value_counts().plot(kind=\"bar\", ax=ax_train)\n",
    "test_df.label.value_counts().plot(kind=\"bar\", ax=ax_test)"
   ]
  },
  {
   "attachments": {},
   "cell_type": "markdown",
   "metadata": {},
   "source": [
    "The data distributions seem to be fair with respect to the train and test\n",
    "distributions, but for both the train and test there is a severe imbalance\n",
    "between the true/false labels. That is something to keep in mind during\n",
    "training."
   ]
  }
 ],
 "metadata": {
  "kernelspec": {
   "display_name": "deomcratizing-data",
   "language": "python",
   "name": "python3"
  },
  "language_info": {
   "codemirror_mode": {
    "name": "ipython",
    "version": 3
   },
   "file_extension": ".py",
   "mimetype": "text/x-python",
   "name": "python",
   "nbconvert_exporter": "python",
   "pygments_lexer": "ipython3",
   "version": "3.10.0"
  },
  "orig_nbformat": 4,
  "vscode": {
   "interpreter": {
    "hash": "86de337ddf643eb96c825eddf188b9d07b329ad3e6f022c2cbb07a9b50fdd5ab"
   }
  }
 },
 "nbformat": 4,
 "nbformat_minor": 2
}
