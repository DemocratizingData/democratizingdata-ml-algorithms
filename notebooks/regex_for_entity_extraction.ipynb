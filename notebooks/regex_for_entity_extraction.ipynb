{
 "cells": [
  {
   "attachments": {},
   "cell_type": "markdown",
   "metadata": {},
   "source": [
    "# Using a Regex To Extract More Candidates for an Entity Classification Approach\n",
    "\n",
    "Model 2 uses the Schwartz-Hearst algorithm to extract candidates. However, if\n",
    "the classifier works well there is no reason to limit the candidates to those\n",
    "that fit the pattern `LONG NAME (ACRONYM)`. Instead, can we use a regex to\n",
    "produce a high recall set of candidates and then use the classifier raise the\n",
    "precision?"
   ]
  },
  {
   "cell_type": "code",
   "execution_count": 3,
   "metadata": {},
   "outputs": [],
   "source": [
    "import json\n",
    "import regex as re\n",
    "from unidecode import unidecode"
   ]
  },
  {
   "cell_type": "code",
   "execution_count": 4,
   "metadata": {},
   "outputs": [],
   "source": [
    "text_id = \"0008656f-0ba2-4632-8602-3017b44c2e90\"\n",
    "with open(\"../data/kaggle/train/{}.json\".format(text_id)) as f:\n",
    "    text = unidecode(\" \".join([sec[\"text\"].replace(\"\\n\", \" \") for sec in json.load(f)]))"
   ]
  },
  {
   "attachments": {},
   "cell_type": "markdown",
   "metadata": {},
   "source": [
    "The pattern below matches the following:\n",
    "\n",
    "- `([A-Z][a-z]{2,}\\ )`: Matches a word that starts with a capital letter and has\n",
    "at least two lower case letters after.\n",
    "- `((for\\ |in\\ |and\\ |the\\ |[A-Z][a-z]{2,})[\\ ]?){2,}`: matches at least two of\n",
    "the following:\n",
    "  - `for `\n",
    "  - `in `\n",
    "  - `and `\n",
    "  - `the `\n",
    "  - `([A-Z][a-z]{2,}[\\ ]?)`: same as the first pattern, but with an optional space\n",
    "- `(\\([A-Z]{3,}\\))?`: matches a string that starts with a `(` and ends with a\n",
    "`)` and has at least three capital letters in between. This is optional."
   ]
  },
  {
   "cell_type": "code",
   "execution_count": 54,
   "metadata": {},
   "outputs": [],
   "source": [
    "entity_pattern = re.compile(r\"(([A-Z][a-z]{2,}\\ )((for\\ |in\\ |and\\ |the\\ |[A-Z][a-z]{2,})[\\ ]?){2,}(\\([A-Z]{3,}\\))?)\")"
   ]
  },
  {
   "cell_type": "code",
   "execution_count": 56,
   "metadata": {},
   "outputs": [
    {
     "name": "stdout",
     "output_type": "stream",
     "text": [
      "{'Wang and Degol ', 'Like in the ', 'European Union and the United States ', 'David Wade Chambers in ', 'Trends in International Mathematics and Science Study (TIMMS)', 'Cejka and Eagly ', 'Southern Finland ', 'Eastern Finland ', 'National Science Foundation', 'Dick and Rallis ', 'Miller and Hayward', 'Picker and Berry ', 'Maltese and Tai ', 'Programme for International Student Assessment (PISA)'}\n"
     ]
    }
   ],
   "source": [
    "print(set(match[0] for match in entity_pattern.findall(text)))\n"
   ]
  }
 ],
 "metadata": {
  "kernelspec": {
   "display_name": "democratizing-data",
   "language": "python",
   "name": "python3"
  },
  "language_info": {
   "codemirror_mode": {
    "name": "ipython",
    "version": 3
   },
   "file_extension": ".py",
   "mimetype": "text/x-python",
   "name": "python",
   "nbconvert_exporter": "python",
   "pygments_lexer": "ipython3",
   "version": "3.10.8"
  },
  "orig_nbformat": 4,
  "vscode": {
   "interpreter": {
    "hash": "194abaa8cfe060ba73100cf06e4f6aa955db251a86425a2f723ab6ae30787673"
   }
  }
 },
 "nbformat": 4,
 "nbformat_minor": 2
}
