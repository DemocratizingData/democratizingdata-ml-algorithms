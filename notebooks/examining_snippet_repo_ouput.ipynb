{
 "cells": [
  {
   "cell_type": "markdown",
   "metadata": {},
   "source": [
    "This notebook looks at the output from the snippet repository\n",
    "and how to use it to train NER, classification, and mlm models."
   ]
  },
  {
   "cell_type": "code",
   "execution_count": 1,
   "metadata": {},
   "outputs": [],
   "source": [
    "\n",
    "from typing import List\n",
    "from spacy import displacy\n",
    "import src.data.snippet_repository as sr"
   ]
  },
  {
   "cell_type": "markdown",
   "metadata": {},
   "source": [
    "### Named Enitiy Recognition Models (NER)"
   ]
  },
  {
   "cell_type": "code",
   "execution_count": 3,
   "metadata": {},
   "outputs": [],
   "source": [
    "ner_repo = sr.SnippetRepository(sr.SnippetRepositoryMode.NER)"
   ]
  },
  {
   "cell_type": "code",
   "execution_count": 131,
   "metadata": {},
   "outputs": [],
   "source": [
    "ner_data = ner_repo.get_training_data(batch_size=10)\n",
    "detected = False\n",
    "while not detected:\n",
    "    ner_df = next(ner_data)\n",
    "    detected = any(ner_df['ner_tags'].apply(lambda ner_tags: any(map(lambda t: t!=\"O\", ner_tags))))"
   ]
  },
  {
   "cell_type": "code",
   "execution_count": 146,
   "metadata": {},
   "outputs": [],
   "source": [
    "text = ner_df.iloc[9].text\n",
    "ner_tags = ner_df.iloc[9].ner_tags"
   ]
  },
  {
   "cell_type": "code",
   "execution_count": 147,
   "metadata": {},
   "outputs": [
    {
     "data": {
      "text/html": [
       "<span class=\"tex2jax_ignore\"><div class=\"entities\" style=\"line-height: 2.5; direction: ltr\">Elementary and Secondary Mathematics and Science Education Two States ' Performance on TIMSS : 2007 Massachusetts and Minnesota participated in a special benchmarking study included in the \n",
       "<mark class=\"entity\" style=\"background: linear-gradient(90deg, #aa9cfc, #fc9ce7); padding: 0.45em 0.6em; margin: 0 0.25em; line-height: 1; border-radius: 0.35em;\">\n",
       "    Trends in International Mathematics and Science Study \n",
       "    <span style=\"font-size: 0.8em; font-weight: bold; line-height: 1; border-radius: 0.35em; vertical-align: middle; margin-left: 0.5rem\">Dataset</span>\n",
       "</mark>\n",
       "( TIMSS ) 2007 , along with three Canadian provinces , the city of Dubai , and one region of Spain .</div></span>"
      ],
      "text/plain": [
       "<IPython.core.display.HTML object>"
      ]
     },
     "metadata": {},
     "output_type": "display_data"
    }
   ],
   "source": [
    "def extract_entities(text:List[str], ner_tags:List[str]):\n",
    "    entities = []\n",
    "    start = 0\n",
    "    end = 0\n",
    "    in_ent = False\n",
    "    for token, tag in zip(text, ner_tags):\n",
    "        token_length = len(token) + 1 # plus a space\n",
    "        if tag == \"I-DAT\":\n",
    "            in_ent = True\n",
    "            end += token_length\n",
    "        elif tag == \"O\" and in_ent:\n",
    "            entities.append({\n",
    "                \"start\": start,\n",
    "                \"end\": end,\n",
    "                \"label\": \"Dataset\"\n",
    "            })\n",
    "            in_ent = False\n",
    "            start = end\n",
    "        elif tag == \"B-DAT\":\n",
    "            entities.append({\n",
    "                \"start\": start,\n",
    "                \"end\": end,\n",
    "                \"label\": \"Dataset\"\n",
    "            })\n",
    "            start = end\n",
    "            end += token_length\n",
    "        else:\n",
    "            # just an O tag\n",
    "            start += token_length\n",
    "            end = start\n",
    "\n",
    "    return entities\n",
    "\n",
    "entities = extract_entities(text, ner_tags)\n",
    "ex = [{\n",
    "    \"text\": \" \".join(text),\n",
    "    \"ents\": entities,\n",
    "    \"title\": None \n",
    "}]\n",
    "\n",
    "displacy.render(ex, style=\"ent\", manual=True, options={\"colors\":{\"Dataset\": \"linear-gradient(90deg, #aa9cfc, #fc9ce7)\"}})"
   ]
  },
  {
   "cell_type": "code",
   "execution_count": null,
   "metadata": {},
   "outputs": [],
   "source": [
    "# load the model here"
   ]
  },
  {
   "cell_type": "code",
   "execution_count": null,
   "metadata": {},
   "outputs": [],
   "source": []
  }
 ],
 "metadata": {
  "kernelspec": {
   "display_name": "Python 3.10.8 ('democratizingdata-ml-algo')",
   "language": "python",
   "name": "python3"
  },
  "language_info": {
   "codemirror_mode": {
    "name": "ipython",
    "version": 3
   },
   "file_extension": ".py",
   "mimetype": "text/x-python",
   "name": "python",
   "nbconvert_exporter": "python",
   "pygments_lexer": "ipython3",
   "version": "3.10.8"
  },
  "orig_nbformat": 4,
  "vscode": {
   "interpreter": {
    "hash": "b3e03aa19f4cee1cca181f326aea7726af1ea307b5fcbfd54a41f945b089b370"
   }
  }
 },
 "nbformat": 4,
 "nbformat_minor": 2
}
