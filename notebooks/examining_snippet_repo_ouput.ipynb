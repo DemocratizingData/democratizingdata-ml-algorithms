{
 "cells": [
  {
   "cell_type": "markdown",
   "metadata": {},
   "source": [
    "This notebook looks at the output from the snippet repository\n",
    "and how to use it to train NER, classification, and mlm models."
   ]
  },
  {
   "cell_type": "code",
   "execution_count": 6,
   "metadata": {},
   "outputs": [],
   "source": [
    "from functools import partial\n",
    "from importlib import reload\n",
    "from typing import List\n",
    "\n",
    "import torch\n",
    "from spacy import displacy\n",
    "import src.data.snippet_repository as sr"
   ]
  },
  {
   "cell_type": "markdown",
   "metadata": {},
   "source": [
    "### Named Enitiy Recognition Models (NER)"
   ]
  },
  {
   "cell_type": "code",
   "execution_count": 7,
   "metadata": {},
   "outputs": [],
   "source": [
    "ner_repo = sr.SnippetRepository(sr.SnippetRepositoryMode.NER)"
   ]
  },
  {
   "cell_type": "code",
   "execution_count": 8,
   "metadata": {},
   "outputs": [],
   "source": [
    "ner_data = ner_repo.get_training_data(batch_size=10)\n",
    "detected = False\n",
    "while not detected:\n",
    "    ner_df = next(ner_data)\n",
    "    detected = any(ner_df['ner_tags'].apply(lambda ner_tags: any(map(lambda t: t!=\"O\", ner_tags))))"
   ]
  },
  {
   "cell_type": "code",
   "execution_count": 9,
   "metadata": {},
   "outputs": [
    {
     "data": {
      "text/html": [
       "<span class=\"tex2jax_ignore\"><div class=\"entities\" style=\"line-height: 2.5; direction: ltr\">Elementary and Secondary Mathematics and Science Education Two States ' Performance on TIMSS : 2007 Massachusetts and Minnesota participated in a special benchmarking study included in the \n",
       "<mark class=\"entity\" style=\"background: linear-gradient(90deg, #aa9cfc, #fc9ce7); padding: 0.45em 0.6em; margin: 0 0.25em; line-height: 1; border-radius: 0.35em;\">\n",
       "    \n",
       "    <span style=\"font-size: 0.8em; font-weight: bold; line-height: 1; border-radius: 0.35em; vertical-align: middle; margin-left: 0.5rem\">Dataset</span>\n",
       "</mark>\n",
       "\n",
       "<mark class=\"entity\" style=\"background: linear-gradient(90deg, #aa9cfc, #fc9ce7); padding: 0.45em 0.6em; margin: 0 0.25em; line-height: 1; border-radius: 0.35em;\">\n",
       "    Trends in International Mathematics and Science Study \n",
       "    <span style=\"font-size: 0.8em; font-weight: bold; line-height: 1; border-radius: 0.35em; vertical-align: middle; margin-left: 0.5rem\">Dataset</span>\n",
       "</mark>\n",
       "( TIMSS ) 2007 , along with three Canadian provinces , the city of Dubai , and one region of Spain .</div></span>"
      ],
      "text/plain": [
       "<IPython.core.display.HTML object>"
      ]
     },
     "metadata": {},
     "output_type": "display_data"
    }
   ],
   "source": [
    "text = ner_df.iloc[9].text\n",
    "ner_tags = ner_df.iloc[9].ner_tags\n",
    "sr.visualize_ner_tags(text, ner_tags)"
   ]
  },
  {
   "cell_type": "code",
   "execution_count": 10,
   "metadata": {},
   "outputs": [],
   "source": [
    "mlm_repo = sr.SnippetRepository(sr.SnippetRepositoryMode.MASKED_LM)"
   ]
  },
  {
   "cell_type": "code",
   "execution_count": 11,
   "metadata": {},
   "outputs": [],
   "source": [
    "mlm_data = mlm_repo.get_training_data(batch_size=10)"
   ]
  },
  {
   "cell_type": "code",
   "execution_count": 14,
   "metadata": {},
   "outputs": [
    {
     "data": {
      "text/html": [
       "<div>\n",
       "<style scoped>\n",
       "    .dataframe tbody tr th:only-of-type {\n",
       "        vertical-align: middle;\n",
       "    }\n",
       "\n",
       "    .dataframe tbody tr th {\n",
       "        vertical-align: top;\n",
       "    }\n",
       "\n",
       "    .dataframe thead th {\n",
       "        text-align: right;\n",
       "    }\n",
       "</style>\n",
       "<table border=\"1\" class=\"dataframe\">\n",
       "  <thead>\n",
       "    <tr style=\"text-align: right;\">\n",
       "      <th></th>\n",
       "      <th>text</th>\n",
       "      <th>pos_tags</th>\n",
       "      <th>mask</th>\n",
       "      <th>label</th>\n",
       "    </tr>\n",
       "  </thead>\n",
       "  <tbody>\n",
       "    <tr>\n",
       "      <th>0</th>\n",
       "      <td>[These, investments, in, conventional, social,...</td>\n",
       "      <td>[DT, NNS, IN, JJ, JJ, NNS, VBP, VBN, TO, VB, N...</td>\n",
       "      <td>[False, False, False, False, False, False, Fal...</td>\n",
       "      <td>0</td>\n",
       "    </tr>\n",
       "    <tr>\n",
       "      <th>1</th>\n",
       "      <td>[The, arbiter, ,, a, member, of, the, project,...</td>\n",
       "      <td>[DT, NN, ,, DT, NN, IN, DT, NN, NN, IN, JJ, NN...</td>\n",
       "      <td>[False, False, False, False, False, False, Fal...</td>\n",
       "      <td>0</td>\n",
       "    </tr>\n",
       "    <tr>\n",
       "      <th>2</th>\n",
       "      <td>[All, 90, students, in, the, class, were, divi...</td>\n",
       "      <td>[DT, CD, NNS, IN, DT, NN, VBD, VBN, IN, CD, NN...</td>\n",
       "      <td>[False, False, False, False, False, False, Fal...</td>\n",
       "      <td>0</td>\n",
       "    </tr>\n",
       "    <tr>\n",
       "      <th>3</th>\n",
       "      <td>[While, CNNs, are, trained, to, map, input, im...</td>\n",
       "      <td>[IN, NNS, VBP, VBN, TO, VB, NN, NNS, IN, DT, V...</td>\n",
       "      <td>[False, False, False, False, False, False, Fal...</td>\n",
       "      <td>0</td>\n",
       "    </tr>\n",
       "    <tr>\n",
       "      <th>4</th>\n",
       "      <td>[The, M, protein, has, the, ability, to, form,...</td>\n",
       "      <td>[DT, NNP, NN, VBZ, DT, NN, TO, VB, NN, HYPH, J...</td>\n",
       "      <td>[False, False, False, False, False, False, Fal...</td>\n",
       "      <td>0</td>\n",
       "    </tr>\n",
       "    <tr>\n",
       "      <th>5</th>\n",
       "      <td>[However, ,, the, following, autumn, ,, it, wa...</td>\n",
       "      <td>[RB, ,, DT, VBG, NN, ,, PRP, VBD, VBN, IN, JJS...</td>\n",
       "      <td>[False, False, False, False, False, False, Fal...</td>\n",
       "      <td>0</td>\n",
       "    </tr>\n",
       "    <tr>\n",
       "      <th>6</th>\n",
       "      <td>[5, -, 22, Table, 5, -, 9, ., Tenure, status, ...</td>\n",
       "      <td>[CD, SYM, CD, NNP, CD, SYM, CD, ., NN, NN, IN,...</td>\n",
       "      <td>[False, False, False, False, False, False, Fal...</td>\n",
       "      <td>0</td>\n",
       "    </tr>\n",
       "    <tr>\n",
       "      <th>7</th>\n",
       "      <td>[Residuals, of, the, regression, models, were,...</td>\n",
       "      <td>[NNS, IN, DT, NN, NNS, VBD, VBN, IN, NN, IN, D...</td>\n",
       "      <td>[False, False, False, False, False, False, Fal...</td>\n",
       "      <td>0</td>\n",
       "    </tr>\n",
       "    <tr>\n",
       "      <th>8</th>\n",
       "      <td>[12, Representatives, of, state, and, local, e...</td>\n",
       "      <td>[CD, NNPS, IN, NN, CC, JJ, JJ, NNS, :, JJ, IN,...</td>\n",
       "      <td>[False, False, False, False, False, False, Fal...</td>\n",
       "      <td>0</td>\n",
       "    </tr>\n",
       "    <tr>\n",
       "      <th>9</th>\n",
       "      <td>[These, should, be, able, to, identify, antibo...</td>\n",
       "      <td>[DT, MD, VB, JJ, TO, VB, NNS, NN, IN, DT, NNP,...</td>\n",
       "      <td>[False, False, False, False, False, False, Fal...</td>\n",
       "      <td>0</td>\n",
       "    </tr>\n",
       "  </tbody>\n",
       "</table>\n",
       "</div>"
      ],
      "text/plain": [
       "                                                text  \\\n",
       "0  [These, investments, in, conventional, social,...   \n",
       "1  [The, arbiter, ,, a, member, of, the, project,...   \n",
       "2  [All, 90, students, in, the, class, were, divi...   \n",
       "3  [While, CNNs, are, trained, to, map, input, im...   \n",
       "4  [The, M, protein, has, the, ability, to, form,...   \n",
       "5  [However, ,, the, following, autumn, ,, it, wa...   \n",
       "6  [5, -, 22, Table, 5, -, 9, ., Tenure, status, ...   \n",
       "7  [Residuals, of, the, regression, models, were,...   \n",
       "8  [12, Representatives, of, state, and, local, e...   \n",
       "9  [These, should, be, able, to, identify, antibo...   \n",
       "\n",
       "                                            pos_tags  \\\n",
       "0  [DT, NNS, IN, JJ, JJ, NNS, VBP, VBN, TO, VB, N...   \n",
       "1  [DT, NN, ,, DT, NN, IN, DT, NN, NN, IN, JJ, NN...   \n",
       "2  [DT, CD, NNS, IN, DT, NN, VBD, VBN, IN, CD, NN...   \n",
       "3  [IN, NNS, VBP, VBN, TO, VB, NN, NNS, IN, DT, V...   \n",
       "4  [DT, NNP, NN, VBZ, DT, NN, TO, VB, NN, HYPH, J...   \n",
       "5  [RB, ,, DT, VBG, NN, ,, PRP, VBD, VBN, IN, JJS...   \n",
       "6  [CD, SYM, CD, NNP, CD, SYM, CD, ., NN, NN, IN,...   \n",
       "7  [NNS, IN, DT, NN, NNS, VBD, VBN, IN, NN, IN, D...   \n",
       "8  [CD, NNPS, IN, NN, CC, JJ, JJ, NNS, :, JJ, IN,...   \n",
       "9  [DT, MD, VB, JJ, TO, VB, NNS, NN, IN, DT, NNP,...   \n",
       "\n",
       "                                                mask  label  \n",
       "0  [False, False, False, False, False, False, Fal...      0  \n",
       "1  [False, False, False, False, False, False, Fal...      0  \n",
       "2  [False, False, False, False, False, False, Fal...      0  \n",
       "3  [False, False, False, False, False, False, Fal...      0  \n",
       "4  [False, False, False, False, False, False, Fal...      0  \n",
       "5  [False, False, False, False, False, False, Fal...      0  \n",
       "6  [False, False, False, False, False, False, Fal...      0  \n",
       "7  [False, False, False, False, False, False, Fal...      0  \n",
       "8  [False, False, False, False, False, False, Fal...      0  \n",
       "9  [False, False, False, False, False, False, Fal...      0  "
      ]
     },
     "execution_count": 14,
     "metadata": {},
     "output_type": "execute_result"
    }
   ],
   "source": [
    "df = next(mlm_data)\n",
    "df"
   ]
  },
  {
   "cell_type": "code",
   "execution_count": 13,
   "metadata": {},
   "outputs": [
    {
     "data": {
      "text/html": [
       "<div>\n",
       "<style scoped>\n",
       "    .dataframe tbody tr th:only-of-type {\n",
       "        vertical-align: middle;\n",
       "    }\n",
       "\n",
       "    .dataframe tbody tr th {\n",
       "        vertical-align: top;\n",
       "    }\n",
       "\n",
       "    .dataframe thead th {\n",
       "        text-align: right;\n",
       "    }\n",
       "</style>\n",
       "<table border=\"1\" class=\"dataframe\">\n",
       "  <thead>\n",
       "    <tr style=\"text-align: right;\">\n",
       "      <th></th>\n",
       "      <th>text</th>\n",
       "      <th>tags</th>\n",
       "      <th>ner_tags</th>\n",
       "    </tr>\n",
       "  </thead>\n",
       "  <tbody>\n",
       "    <tr>\n",
       "      <th>0</th>\n",
       "      <td>[Projections, and, Potential, Impacts, ,, 175,...</td>\n",
       "      <td>[NNP, CC, NNP, NNPS, ,, CD, NN, NNP, ,, NNP, I...</td>\n",
       "      <td>[O, O, O, O, O, O, O, O, O, O, O, O, O, O, O, ...</td>\n",
       "    </tr>\n",
       "    <tr>\n",
       "      <th>1</th>\n",
       "      <td>[Given, the, complexity, of, the, regional, oc...</td>\n",
       "      <td>[VBN, DT, NN, IN, DT, JJ, NN, NN, IN, DT, NNP,...</td>\n",
       "      <td>[O, O, O, O, O, O, O, O, O, O, O, O, O, O, O, ...</td>\n",
       "    </tr>\n",
       "    <tr>\n",
       "      <th>2</th>\n",
       "      <td>[The, table, may, help, users, to, estimate, t...</td>\n",
       "      <td>[DT, NN, MD, VB, NNS, TO, VB, DT, JJ, JJ, NN, ...</td>\n",
       "      <td>[O, O, O, O, O, O, O, O, O, O, O, O, O, O, O, ...</td>\n",
       "    </tr>\n",
       "    <tr>\n",
       "      <th>3</th>\n",
       "      <td>[The, sample, powder, was, then, split, for, s...</td>\n",
       "      <td>[DT, NN, NN, VBD, RB, VBN, IN, JJ, NN, CC, NNP...</td>\n",
       "      <td>[O, O, O, O, O, O, O, O, O, O, O, O, O, O, O]</td>\n",
       "    </tr>\n",
       "    <tr>\n",
       "      <th>4</th>\n",
       "      <td>[The, 237, subjects, without, manual, segmenta...</td>\n",
       "      <td>[DT, CD, NNS, IN, JJ, NNS, VBD, VBN, IN, JJ, N...</td>\n",
       "      <td>[O, O, O, O, O, O, O, O, O, O, O, O, O, O, O, ...</td>\n",
       "    </tr>\n",
       "    <tr>\n",
       "      <th>5</th>\n",
       "      <td>[+, (, 1, -, p1)a2, ], +, Pr(G, =, 2)[pg=2(1, ...</td>\n",
       "      <td>[NFP, -LRB-, CD, HYPH, NN, -RRB-, :, NNS, NN, ...</td>\n",
       "      <td>[O, O, O, O, O, O, O, O, O, O, O, O, O, O]</td>\n",
       "    </tr>\n",
       "    <tr>\n",
       "      <th>6</th>\n",
       "      <td>[Many, immigrant, workers, moved, to, fill, me...</td>\n",
       "      <td>[JJ, JJ, NNS, VBD, TO, VB, NN, NNS, IN, PRP$, ...</td>\n",
       "      <td>[O, O, O, O, O, O, O, O, O, O, O, O, O, O, O, ...</td>\n",
       "    </tr>\n",
       "    <tr>\n",
       "      <th>7</th>\n",
       "      <td>[Therefore, ,, we, recommend, collecting, how,...</td>\n",
       "      <td>[RB, ,, PRP, VBP, VBG, WRB, NNP, VBZ, VBN, VBN...</td>\n",
       "      <td>[O, O, O, O, O, O, O, O, O, O, O, O, O, O, O, ...</td>\n",
       "    </tr>\n",
       "    <tr>\n",
       "      <th>8</th>\n",
       "      <td>[However, ,, IMR, are, 3.81, %, more, likely, ...</td>\n",
       "      <td>[RB, ,, NNP, VBP, CD, NN, RBR, JJ, IN, NNP, TO...</td>\n",
       "      <td>[O, O, O, O, O, O, O, O, O, O, O, O, O, O, O, ...</td>\n",
       "    </tr>\n",
       "    <tr>\n",
       "      <th>9</th>\n",
       "      <td>[(, Though, we, do, not, consider, (, R, &gt;, r,...</td>\n",
       "      <td>[-LRB-, IN, PRP, VBP, RB, VB, -LRB-, NN, XX, N...</td>\n",
       "      <td>[O, O, O, O, O, O, O, O, O, O, O, O, O, O, O, ...</td>\n",
       "    </tr>\n",
       "  </tbody>\n",
       "</table>\n",
       "</div>"
      ],
      "text/plain": [
       "                                                text  \\\n",
       "0  [Projections, and, Potential, Impacts, ,, 175,...   \n",
       "1  [Given, the, complexity, of, the, regional, oc...   \n",
       "2  [The, table, may, help, users, to, estimate, t...   \n",
       "3  [The, sample, powder, was, then, split, for, s...   \n",
       "4  [The, 237, subjects, without, manual, segmenta...   \n",
       "5  [+, (, 1, -, p1)a2, ], +, Pr(G, =, 2)[pg=2(1, ...   \n",
       "6  [Many, immigrant, workers, moved, to, fill, me...   \n",
       "7  [Therefore, ,, we, recommend, collecting, how,...   \n",
       "8  [However, ,, IMR, are, 3.81, %, more, likely, ...   \n",
       "9  [(, Though, we, do, not, consider, (, R, >, r,...   \n",
       "\n",
       "                                                tags  \\\n",
       "0  [NNP, CC, NNP, NNPS, ,, CD, NN, NNP, ,, NNP, I...   \n",
       "1  [VBN, DT, NN, IN, DT, JJ, NN, NN, IN, DT, NNP,...   \n",
       "2  [DT, NN, MD, VB, NNS, TO, VB, DT, JJ, JJ, NN, ...   \n",
       "3  [DT, NN, NN, VBD, RB, VBN, IN, JJ, NN, CC, NNP...   \n",
       "4  [DT, CD, NNS, IN, JJ, NNS, VBD, VBN, IN, JJ, N...   \n",
       "5  [NFP, -LRB-, CD, HYPH, NN, -RRB-, :, NNS, NN, ...   \n",
       "6  [JJ, JJ, NNS, VBD, TO, VB, NN, NNS, IN, PRP$, ...   \n",
       "7  [RB, ,, PRP, VBP, VBG, WRB, NNP, VBZ, VBN, VBN...   \n",
       "8  [RB, ,, NNP, VBP, CD, NN, RBR, JJ, IN, NNP, TO...   \n",
       "9  [-LRB-, IN, PRP, VBP, RB, VB, -LRB-, NN, XX, N...   \n",
       "\n",
       "                                            ner_tags  \n",
       "0  [O, O, O, O, O, O, O, O, O, O, O, O, O, O, O, ...  \n",
       "1  [O, O, O, O, O, O, O, O, O, O, O, O, O, O, O, ...  \n",
       "2  [O, O, O, O, O, O, O, O, O, O, O, O, O, O, O, ...  \n",
       "3      [O, O, O, O, O, O, O, O, O, O, O, O, O, O, O]  \n",
       "4  [O, O, O, O, O, O, O, O, O, O, O, O, O, O, O, ...  \n",
       "5         [O, O, O, O, O, O, O, O, O, O, O, O, O, O]  \n",
       "6  [O, O, O, O, O, O, O, O, O, O, O, O, O, O, O, ...  \n",
       "7  [O, O, O, O, O, O, O, O, O, O, O, O, O, O, O, ...  \n",
       "8  [O, O, O, O, O, O, O, O, O, O, O, O, O, O, O, ...  \n",
       "9  [O, O, O, O, O, O, O, O, O, O, O, O, O, O, O, ...  "
      ]
     },
     "execution_count": 13,
     "metadata": {},
     "output_type": "execute_result"
    }
   ],
   "source": [
    "df"
   ]
  }
 ],
 "metadata": {
  "kernelspec": {
   "display_name": "democratizing-data-ml-algorithms",
   "language": "python",
   "name": "python3"
  },
  "language_info": {
   "codemirror_mode": {
    "name": "ipython",
    "version": 3
   },
   "file_extension": ".py",
   "mimetype": "text/x-python",
   "name": "python",
   "nbconvert_exporter": "python",
   "pygments_lexer": "ipython3",
   "version": "3.10.8"
  },
  "orig_nbformat": 4,
  "vscode": {
   "interpreter": {
    "hash": "2b291ab9446582050e02bff38bdb2cc08a6891ecc485df1df216546589a982e9"
   }
  }
 },
 "nbformat": 4,
 "nbformat_minor": 2
}
